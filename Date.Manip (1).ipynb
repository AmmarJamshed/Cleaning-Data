{
 "cells": [
  {
   "cell_type": "markdown",
   "metadata": {},
   "source": [
    "## Date Manipulation with Sales Data"
   ]
  },
  {
   "cell_type": "code",
   "execution_count": 1,
   "metadata": {},
   "outputs": [],
   "source": [
    "#importing the basic libraries\n",
    "import pandas as pd\n",
    "import numpy as np\n",
    "%matplotlib inline"
   ]
  },
  {
   "cell_type": "code",
   "execution_count": 2,
   "metadata": {},
   "outputs": [],
   "source": [
    "#read the Sales CSV file\n",
    "salesdf = pd.read_excel(r\"C:\\Users\\muham\\Downloads\\Sales.Data.xlsx\")"
   ]
  },
  {
   "cell_type": "code",
   "execution_count": 3,
   "metadata": {},
   "outputs": [
    {
     "name": "stdout",
     "output_type": "stream",
     "text": [
      "(8399, 4)\n",
      "S.No.                      int64\n",
      "Order Date        datetime64[ns]\n",
      "Order Quantity             int64\n",
      "Sales                    float64\n",
      "dtype: object\n"
     ]
    }
   ],
   "source": [
    "#print out the basic info\n",
    "print(salesdf.shape)\n",
    "print(salesdf.dtypes)"
   ]
  },
  {
   "cell_type": "code",
   "execution_count": 4,
   "metadata": {},
   "outputs": [
    {
     "data": {
      "text/plain": [
       "S.No.                      int64\n",
       "Order Date        datetime64[ns]\n",
       "Order Quantity             int64\n",
       "Sales                    float64\n",
       "dtype: object"
      ]
     },
     "execution_count": 4,
     "metadata": {},
     "output_type": "execute_result"
    }
   ],
   "source": [
    "#we need to cast the date to the python datetime format\n",
    "salesdf['Order Date'] = pd.to_datetime(salesdf['Order Date'])\n",
    "salesdf.dtypes"
   ]
  },
  {
   "cell_type": "code",
   "execution_count": 5,
   "metadata": {},
   "outputs": [
    {
     "data": {
      "text/plain": [
       "0   2010-10-13\n",
       "1   2012-10-01\n",
       "2   2012-10-01\n",
       "3   2011-07-10\n",
       "4   2010-08-28\n",
       "5   2010-08-28\n",
       "6   2011-06-17\n",
       "7   2011-06-17\n",
       "8   2011-03-24\n",
       "9   2010-02-26\n",
       "Name: Order Date, dtype: datetime64[ns]"
      ]
     },
     "execution_count": 5,
     "metadata": {},
     "output_type": "execute_result"
    }
   ],
   "source": [
    "#Let us look athe dates\n",
    "salesdf['Order Date'].head(10)"
   ]
  },
  {
   "cell_type": "code",
   "execution_count": 6,
   "metadata": {},
   "outputs": [],
   "source": [
    "#let us extract the different components and put them in different columns (eg for data warehousing)\n",
    "salesdf['Quarter'] = salesdf['Order Date'].apply(lambda x: x.quarter)\n",
    "salesdf['Year'] = salesdf['Order Date'].apply(lambda x: x.year)\n",
    "salesdf['Month'] = salesdf['Order Date'].apply(lambda x: x.month)\n",
    "salesdf['Week'] = salesdf['Order Date'].apply(lambda x: x.week)\n",
    "salesdf['Day'] = salesdf['Order Date'].apply(lambda x: x.day)"
   ]
  },
  {
   "cell_type": "code",
   "execution_count": 7,
   "metadata": {},
   "outputs": [],
   "source": [
    "#here is a list of other things you can extract\n",
    "#hour, minute, seconds, month in text format"
   ]
  },
  {
   "cell_type": "code",
   "execution_count": 8,
   "metadata": {},
   "outputs": [
    {
     "data": {
      "text/html": [
       "<div>\n",
       "<style scoped>\n",
       "    .dataframe tbody tr th:only-of-type {\n",
       "        vertical-align: middle;\n",
       "    }\n",
       "\n",
       "    .dataframe tbody tr th {\n",
       "        vertical-align: top;\n",
       "    }\n",
       "\n",
       "    .dataframe thead th {\n",
       "        text-align: right;\n",
       "    }\n",
       "</style>\n",
       "<table border=\"1\" class=\"dataframe\">\n",
       "  <thead>\n",
       "    <tr style=\"text-align: right;\">\n",
       "      <th></th>\n",
       "      <th>S.No.</th>\n",
       "      <th>Order Date</th>\n",
       "      <th>Order Quantity</th>\n",
       "      <th>Sales</th>\n",
       "      <th>Quarter</th>\n",
       "      <th>Year</th>\n",
       "      <th>Month</th>\n",
       "      <th>Week</th>\n",
       "      <th>Day</th>\n",
       "    </tr>\n",
       "  </thead>\n",
       "  <tbody>\n",
       "    <tr>\n",
       "      <th>0</th>\n",
       "      <td>1</td>\n",
       "      <td>2010-10-13</td>\n",
       "      <td>6</td>\n",
       "      <td>261.5400</td>\n",
       "      <td>4</td>\n",
       "      <td>2010</td>\n",
       "      <td>10</td>\n",
       "      <td>41</td>\n",
       "      <td>13</td>\n",
       "    </tr>\n",
       "    <tr>\n",
       "      <th>1</th>\n",
       "      <td>2</td>\n",
       "      <td>2012-10-01</td>\n",
       "      <td>49</td>\n",
       "      <td>10123.0200</td>\n",
       "      <td>4</td>\n",
       "      <td>2012</td>\n",
       "      <td>10</td>\n",
       "      <td>40</td>\n",
       "      <td>1</td>\n",
       "    </tr>\n",
       "    <tr>\n",
       "      <th>2</th>\n",
       "      <td>3</td>\n",
       "      <td>2012-10-01</td>\n",
       "      <td>27</td>\n",
       "      <td>244.5700</td>\n",
       "      <td>4</td>\n",
       "      <td>2012</td>\n",
       "      <td>10</td>\n",
       "      <td>40</td>\n",
       "      <td>1</td>\n",
       "    </tr>\n",
       "    <tr>\n",
       "      <th>3</th>\n",
       "      <td>4</td>\n",
       "      <td>2011-07-10</td>\n",
       "      <td>30</td>\n",
       "      <td>4965.7595</td>\n",
       "      <td>3</td>\n",
       "      <td>2011</td>\n",
       "      <td>7</td>\n",
       "      <td>27</td>\n",
       "      <td>10</td>\n",
       "    </tr>\n",
       "    <tr>\n",
       "      <th>4</th>\n",
       "      <td>5</td>\n",
       "      <td>2010-08-28</td>\n",
       "      <td>19</td>\n",
       "      <td>394.2700</td>\n",
       "      <td>3</td>\n",
       "      <td>2010</td>\n",
       "      <td>8</td>\n",
       "      <td>34</td>\n",
       "      <td>28</td>\n",
       "    </tr>\n",
       "    <tr>\n",
       "      <th>5</th>\n",
       "      <td>6</td>\n",
       "      <td>2010-08-28</td>\n",
       "      <td>21</td>\n",
       "      <td>146.6900</td>\n",
       "      <td>3</td>\n",
       "      <td>2010</td>\n",
       "      <td>8</td>\n",
       "      <td>34</td>\n",
       "      <td>28</td>\n",
       "    </tr>\n",
       "    <tr>\n",
       "      <th>6</th>\n",
       "      <td>7</td>\n",
       "      <td>2011-06-17</td>\n",
       "      <td>12</td>\n",
       "      <td>93.5400</td>\n",
       "      <td>2</td>\n",
       "      <td>2011</td>\n",
       "      <td>6</td>\n",
       "      <td>24</td>\n",
       "      <td>17</td>\n",
       "    </tr>\n",
       "    <tr>\n",
       "      <th>7</th>\n",
       "      <td>8</td>\n",
       "      <td>2011-06-17</td>\n",
       "      <td>22</td>\n",
       "      <td>905.0800</td>\n",
       "      <td>2</td>\n",
       "      <td>2011</td>\n",
       "      <td>6</td>\n",
       "      <td>24</td>\n",
       "      <td>17</td>\n",
       "    </tr>\n",
       "    <tr>\n",
       "      <th>8</th>\n",
       "      <td>9</td>\n",
       "      <td>2011-03-24</td>\n",
       "      <td>21</td>\n",
       "      <td>2781.8200</td>\n",
       "      <td>1</td>\n",
       "      <td>2011</td>\n",
       "      <td>3</td>\n",
       "      <td>12</td>\n",
       "      <td>24</td>\n",
       "    </tr>\n",
       "    <tr>\n",
       "      <th>9</th>\n",
       "      <td>10</td>\n",
       "      <td>2010-02-26</td>\n",
       "      <td>44</td>\n",
       "      <td>228.4100</td>\n",
       "      <td>1</td>\n",
       "      <td>2010</td>\n",
       "      <td>2</td>\n",
       "      <td>8</td>\n",
       "      <td>26</td>\n",
       "    </tr>\n",
       "  </tbody>\n",
       "</table>\n",
       "</div>"
      ],
      "text/plain": [
       "   S.No. Order Date  Order Quantity       Sales  Quarter  Year  Month  Week  \\\n",
       "0      1 2010-10-13               6    261.5400        4  2010     10    41   \n",
       "1      2 2012-10-01              49  10123.0200        4  2012     10    40   \n",
       "2      3 2012-10-01              27    244.5700        4  2012     10    40   \n",
       "3      4 2011-07-10              30   4965.7595        3  2011      7    27   \n",
       "4      5 2010-08-28              19    394.2700        3  2010      8    34   \n",
       "5      6 2010-08-28              21    146.6900        3  2010      8    34   \n",
       "6      7 2011-06-17              12     93.5400        2  2011      6    24   \n",
       "7      8 2011-06-17              22    905.0800        2  2011      6    24   \n",
       "8      9 2011-03-24              21   2781.8200        1  2011      3    12   \n",
       "9     10 2010-02-26              44    228.4100        1  2010      2     8   \n",
       "\n",
       "   Day  \n",
       "0   13  \n",
       "1    1  \n",
       "2    1  \n",
       "3   10  \n",
       "4   28  \n",
       "5   28  \n",
       "6   17  \n",
       "7   17  \n",
       "8   24  \n",
       "9   26  "
      ]
     },
     "execution_count": 8,
     "metadata": {},
     "output_type": "execute_result"
    }
   ],
   "source": [
    "salesdf.head(10)"
   ]
  },
  {
   "cell_type": "code",
   "execution_count": 9,
   "metadata": {},
   "outputs": [
    {
     "data": {
      "text/plain": [
       "S.No.                      int64\n",
       "Order Date        datetime64[ns]\n",
       "Order Quantity             int64\n",
       "Sales                    float64\n",
       "Quarter                    int64\n",
       "Year                       int64\n",
       "Month                      int64\n",
       "Week                       int64\n",
       "Day                        int64\n",
       "dtype: object"
      ]
     },
     "execution_count": 9,
     "metadata": {},
     "output_type": "execute_result"
    }
   ],
   "source": [
    "salesdf.dtypes"
   ]
  },
  {
   "cell_type": "code",
   "execution_count": 10,
   "metadata": {},
   "outputs": [
    {
     "data": {
      "text/plain": [
       "S.No.                      int64\n",
       "Order Date        datetime64[ns]\n",
       "Order Quantity             int64\n",
       "Sales                    float64\n",
       "Quarter                   object\n",
       "Year                       int64\n",
       "Month                      int64\n",
       "Week                       int64\n",
       "Day                        int64\n",
       "dtype: object"
      ]
     },
     "execution_count": 10,
     "metadata": {},
     "output_type": "execute_result"
    }
   ],
   "source": [
    "#we want quarters as strings for OLAP analysis\n",
    "salesdf['Quarter'] = salesdf['Quarter'].astype(str)\n",
    "salesdf.dtypes"
   ]
  },
  {
   "cell_type": "code",
   "execution_count": 11,
   "metadata": {},
   "outputs": [
    {
     "data": {
      "text/plain": [
       "0    Q4\n",
       "1    Q4\n",
       "2    Q4\n",
       "3    Q3\n",
       "4    Q3\n",
       "5    Q3\n",
       "6    Q2\n",
       "7    Q2\n",
       "8    Q1\n",
       "9    Q1\n",
       "Name: Quarter, dtype: object"
      ]
     },
     "execution_count": 11,
     "metadata": {},
     "output_type": "execute_result"
    }
   ],
   "source": [
    "#now replace 1 with Q1, 2 with Q2, 3 with Q3 and 4 with Q4\n",
    "salesdf['Quarter'] = salesdf['Quarter'].str.replace('1',\"Q1\")\n",
    "salesdf['Quarter'] = salesdf['Quarter'].str.replace('2',\"Q2\")\n",
    "salesdf['Quarter'] = salesdf['Quarter'].str.replace('3',\"Q3\")\n",
    "salesdf['Quarter'] = salesdf['Quarter'].str.replace('4',\"Q4\")\n",
    "salesdf['Quarter'].head(10)"
   ]
  },
  {
   "cell_type": "markdown",
   "metadata": {},
   "source": [
    "# Now, let's aggregate like OLAP and plot (we are not using matplotlib so charts will be looking bad)"
   ]
  },
  {
   "cell_type": "code",
   "execution_count": 12,
   "metadata": {},
   "outputs": [
    {
     "name": "stdout",
     "output_type": "stream",
     "text": [
      "Quarter          Q1          Q2          Q3          Q4\n",
      "Sales    3898688.09  3408238.33  3594076.64  4014597.76\n"
     ]
    },
    {
     "data": {
      "text/plain": [
       "<matplotlib.axes._subplots.AxesSubplot at 0x1bdf3f63100>"
      ]
     },
     "execution_count": 12,
     "metadata": {},
     "output_type": "execute_result"
    },
    {
     "data": {
      "image/png": "[encoded data removed]",
      "text/plain": [
       "<Figure size 432x288 with 1 Axes>"
      ]
     },
     "metadata": {
      "needs_background": "light"
     },
     "output_type": "display_data"
    }
   ],
   "source": [
    "#aggregations\n",
    "agg_qtr_sales = salesdf.pivot_table(columns=['Quarter'], values='Sales', aggfunc='sum').round(2)\n",
    "print(agg_qtr_sales)\n",
    "agg_qtr_sales.plot.bar()"
   ]
  },
  {
   "cell_type": "code",
   "execution_count": 13,
   "metadata": {},
   "outputs": [
    {
     "data": {
      "text/plain": [
       "Index(['Q1', 'Q2', 'Q3', 'Q4'], dtype='object', name='Quarter')"
      ]
     },
     "execution_count": 13,
     "metadata": {},
     "output_type": "execute_result"
    }
   ],
   "source": [
    "agg_qtr_sales.columns"
   ]
  },
  {
   "cell_type": "code",
   "execution_count": 14,
   "metadata": {},
   "outputs": [
    {
     "name": "stdout",
     "output_type": "stream",
     "text": [
      "Year         2009       2010       2011        2012\n",
      "Sales  4209139.46  3549680.8  3436816.7  3719963.86\n"
     ]
    },
    {
     "data": {
      "text/plain": [
       "<matplotlib.axes._subplots.AxesSubplot at 0x1bdf464ce50>"
      ]
     },
     "execution_count": 14,
     "metadata": {},
     "output_type": "execute_result"
    },
    {
     "data": {
      "image/png": "[encoded data removed]",
      "text/plain": [
       "<Figure size 432x288 with 1 Axes>"
      ]
     },
     "metadata": {
      "needs_background": "light"
     },
     "output_type": "display_data"
    }
   ],
   "source": [
    "agg_year_sales = salesdf.pivot_table(columns=['Year'], values='Sales', aggfunc='sum').round(2)\n",
    "print(agg_year_sales)\n",
    "agg_year_sales.plot.bar()"
   ]
  },
  {
   "cell_type": "code",
   "execution_count": 15,
   "metadata": {},
   "outputs": [
    {
     "name": "stdout",
     "output_type": "stream",
     "text": [
      "Month          1           2           3           4           5           6   \\\n",
      "Sales  1444923.38  1180083.78  1273680.93  1216483.44  1160896.38  1030858.51   \n",
      "\n",
      "Month          7           8           9           10          11          12  \n",
      "Sales  1141104.35  1115015.33  1337956.96  1383714.43  1163393.37  1467489.96  \n"
     ]
    },
    {
     "data": {
      "text/plain": [
       "<matplotlib.axes._subplots.AxesSubplot at 0x1bdf46d6850>"
      ]
     },
     "execution_count": 15,
     "metadata": {},
     "output_type": "execute_result"
    },
    {
     "data": {
      "image/png": "[encoded data removed]",
      "text/plain": [
       "<Figure size 432x288 with 1 Axes>"
      ]
     },
     "metadata": {
      "needs_background": "light"
     },
     "output_type": "display_data"
    }
   ],
   "source": [
    "agg_month_sales = salesdf.pivot_table(columns=['Month'], values='Sales', aggfunc='sum').round(2)\n",
    "print(agg_month_sales)\n",
    "agg_month_sales.plot.bar()"
   ]
  },
  {
   "cell_type": "code",
   "execution_count": 16,
   "metadata": {},
   "outputs": [
    {
     "name": "stdout",
     "output_type": "stream",
     "text": [
      "Week          1          2          3          4          5          6   \\\n",
      "Sales  309442.97  453098.37  233692.35  269561.72  301772.25  306868.05   \n",
      "\n",
      "Week          7          8          9          10  ...        44         45  \\\n",
      "Sales  309767.26  257349.75  295048.98  229005.21  ...  208535.5  294600.45   \n",
      "\n",
      "Week          46         47         48        49         50        51  \\\n",
      "Sales  282626.33  299441.77  384229.25  349161.0  296638.14  315662.3   \n",
      "\n",
      "Week          52         53  \n",
      "Sales  242937.17  123756.24  \n",
      "\n",
      "[1 rows x 53 columns]\n"
     ]
    },
    {
     "data": {
      "text/plain": [
       "<matplotlib.axes._subplots.AxesSubplot at 0x1bdf3dff040>"
      ]
     },
     "execution_count": 16,
     "metadata": {},
     "output_type": "execute_result"
    },
    {
     "data": {
      "image/png": "[encoded data removed]",
      "text/plain": [
       "<Figure size 432x288 with 1 Axes>"
      ]
     },
     "metadata": {
      "needs_background": "light"
     },
     "output_type": "display_data"
    }
   ],
   "source": [
    "agg_week_sales = salesdf.pivot_table(columns=['Week'], values='Sales', aggfunc='sum').round(2)\n",
    "print(agg_week_sales)\n",
    "agg_week_sales.plot.bar()"
   ]
  },
  {
   "cell_type": "markdown",
   "metadata": {},
   "source": [
    "## Date Manipulation with Orders Data"
   ]
  },
  {
   "cell_type": "code",
   "execution_count": 17,
   "metadata": {},
   "outputs": [
    {
     "name": "stdout",
     "output_type": "stream",
     "text": [
      "(99441, 8)\n",
      "order_id                                 object\n",
      "customer_id                              object\n",
      "order_status                             object\n",
      "order_purchase_timestamp         datetime64[ns]\n",
      "order_approved_at                datetime64[ns]\n",
      "order_delivered_carrier_date     datetime64[ns]\n",
      "order_delivered_customer_date    datetime64[ns]\n",
      "order_estimated_delivery_date    datetime64[ns]\n",
      "dtype: object\n"
     ]
    }
   ],
   "source": [
    "#read the Orders CSV file\n",
    "ordersdf = pd.read_excel(r\"C:\\Users\\muham\\Downloads\\Orders.Data.xlsx\")\n",
    "\n",
    "#print out the basic info\n",
    "print(ordersdf.shape)\n",
    "print(ordersdf.dtypes)"
   ]
  },
  {
   "cell_type": "code",
   "execution_count": 18,
   "metadata": {},
   "outputs": [
    {
     "data": {
      "text/html": [
       "<div>\n",
       "<style scoped>\n",
       "    .dataframe tbody tr th:only-of-type {\n",
       "        vertical-align: middle;\n",
       "    }\n",
       "\n",
       "    .dataframe tbody tr th {\n",
       "        vertical-align: top;\n",
       "    }\n",
       "\n",
       "    .dataframe thead th {\n",
       "        text-align: right;\n",
       "    }\n",
       "</style>\n",
       "<table border=\"1\" class=\"dataframe\">\n",
       "  <thead>\n",
       "    <tr style=\"text-align: right;\">\n",
       "      <th></th>\n",
       "      <th>order_id</th>\n",
       "      <th>customer_id</th>\n",
       "      <th>order_status</th>\n",
       "      <th>order_purchase_timestamp</th>\n",
       "      <th>order_approved_at</th>\n",
       "      <th>order_delivered_carrier_date</th>\n",
       "      <th>order_delivered_customer_date</th>\n",
       "      <th>order_estimated_delivery_date</th>\n",
       "    </tr>\n",
       "  </thead>\n",
       "  <tbody>\n",
       "    <tr>\n",
       "      <th>0</th>\n",
       "      <td>e481f51cbdc54678b7cc49136f2d6af7</td>\n",
       "      <td>9ef432eb6251297304e76186b10a928d</td>\n",
       "      <td>delivered</td>\n",
       "      <td>2017-10-02 10:56:33</td>\n",
       "      <td>2017-10-02 11:07:15</td>\n",
       "      <td>2017-10-04 19:55:00</td>\n",
       "      <td>2017-10-10 21:25:13</td>\n",
       "      <td>2017-10-18</td>\n",
       "    </tr>\n",
       "    <tr>\n",
       "      <th>1</th>\n",
       "      <td>53cdb2fc8bc7dce0b6741e2150273451</td>\n",
       "      <td>b0830fb4747a6c6d20dea0b8c802d7ef</td>\n",
       "      <td>delivered</td>\n",
       "      <td>2018-07-24 20:41:37</td>\n",
       "      <td>2018-07-26 03:24:27</td>\n",
       "      <td>2018-07-26 14:31:00</td>\n",
       "      <td>2018-08-07 15:27:45</td>\n",
       "      <td>2018-08-13</td>\n",
       "    </tr>\n",
       "    <tr>\n",
       "      <th>2</th>\n",
       "      <td>47770eb9100c2d0c44946d9cf07ec65d</td>\n",
       "      <td>41ce2a54c0b03bf3443c3d931a367089</td>\n",
       "      <td>delivered</td>\n",
       "      <td>2018-08-08 08:38:49</td>\n",
       "      <td>2018-08-08 08:55:23</td>\n",
       "      <td>2018-08-08 13:50:00</td>\n",
       "      <td>2018-08-17 18:06:29</td>\n",
       "      <td>2018-09-04</td>\n",
       "    </tr>\n",
       "    <tr>\n",
       "      <th>3</th>\n",
       "      <td>949d5b44dbf5de918fe9c16f97b45f8a</td>\n",
       "      <td>f88197465ea7920adcdbec7375364d82</td>\n",
       "      <td>delivered</td>\n",
       "      <td>2017-11-18 19:28:06</td>\n",
       "      <td>2017-11-18 19:45:59</td>\n",
       "      <td>2017-11-22 13:39:59</td>\n",
       "      <td>2017-12-02 00:28:42</td>\n",
       "      <td>2017-12-15</td>\n",
       "    </tr>\n",
       "    <tr>\n",
       "      <th>4</th>\n",
       "      <td>ad21c59c0840e6cb83a9ceb5573f8159</td>\n",
       "      <td>8ab97904e6daea8866dbdbc4fb7aad2c</td>\n",
       "      <td>delivered</td>\n",
       "      <td>2018-02-13 21:18:39</td>\n",
       "      <td>2018-02-13 22:20:29</td>\n",
       "      <td>2018-02-14 19:46:34</td>\n",
       "      <td>2018-02-16 18:17:02</td>\n",
       "      <td>2018-02-26</td>\n",
       "    </tr>\n",
       "    <tr>\n",
       "      <th>5</th>\n",
       "      <td>a4591c265e18cb1dcee52889e2d8acc3</td>\n",
       "      <td>503740e9ca751ccdda7ba28e9ab8f608</td>\n",
       "      <td>delivered</td>\n",
       "      <td>2017-07-09 21:57:05</td>\n",
       "      <td>2017-07-09 22:10:13</td>\n",
       "      <td>2017-07-11 14:58:04</td>\n",
       "      <td>2017-07-26 10:57:55</td>\n",
       "      <td>2017-08-01</td>\n",
       "    </tr>\n",
       "    <tr>\n",
       "      <th>6</th>\n",
       "      <td>136cce7faa42fdb2cefd53fdc79a6098</td>\n",
       "      <td>ed0271e0b7da060a393796590e7b737a</td>\n",
       "      <td>invoiced</td>\n",
       "      <td>2017-04-11 12:22:08</td>\n",
       "      <td>2017-04-13 13:25:17</td>\n",
       "      <td>NaT</td>\n",
       "      <td>NaT</td>\n",
       "      <td>2017-05-09</td>\n",
       "    </tr>\n",
       "    <tr>\n",
       "      <th>7</th>\n",
       "      <td>6514b8ad8028c9f2cc2374ded245783f</td>\n",
       "      <td>9bdf08b4b3b52b5526ff42d37d47f222</td>\n",
       "      <td>delivered</td>\n",
       "      <td>2017-05-16 13:10:30</td>\n",
       "      <td>2017-05-16 13:22:11</td>\n",
       "      <td>2017-05-22 10:07:46</td>\n",
       "      <td>2017-05-26 12:55:51</td>\n",
       "      <td>2017-06-07</td>\n",
       "    </tr>\n",
       "    <tr>\n",
       "      <th>8</th>\n",
       "      <td>76c6e866289321a7c93b82b54852dc33</td>\n",
       "      <td>f54a9f0e6b351c431402b8461ea51999</td>\n",
       "      <td>delivered</td>\n",
       "      <td>2017-01-23 18:29:09</td>\n",
       "      <td>2017-01-25 02:50:47</td>\n",
       "      <td>2017-01-26 14:16:31</td>\n",
       "      <td>2017-02-02 14:08:10</td>\n",
       "      <td>2017-03-06</td>\n",
       "    </tr>\n",
       "    <tr>\n",
       "      <th>9</th>\n",
       "      <td>e69bfb5eb88e0ed6a785585b27e16dbf</td>\n",
       "      <td>31ad1d1b63eb9962463f764d4e6e0c9d</td>\n",
       "      <td>delivered</td>\n",
       "      <td>2017-07-29 11:55:02</td>\n",
       "      <td>2017-07-29 12:05:32</td>\n",
       "      <td>2017-08-10 19:45:24</td>\n",
       "      <td>2017-08-16 17:14:30</td>\n",
       "      <td>2017-08-23</td>\n",
       "    </tr>\n",
       "  </tbody>\n",
       "</table>\n",
       "</div>"
      ],
      "text/plain": [
       "                           order_id                       customer_id  \\\n",
       "0  e481f51cbdc54678b7cc49136f2d6af7  9ef432eb6251297304e76186b10a928d   \n",
       "1  53cdb2fc8bc7dce0b6741e2150273451  b0830fb4747a6c6d20dea0b8c802d7ef   \n",
       "2  47770eb9100c2d0c44946d9cf07ec65d  41ce2a54c0b03bf3443c3d931a367089   \n",
       "3  949d5b44dbf5de918fe9c16f97b45f8a  f88197465ea7920adcdbec7375364d82   \n",
       "4  ad21c59c0840e6cb83a9ceb5573f8159  8ab97904e6daea8866dbdbc4fb7aad2c   \n",
       "5  a4591c265e18cb1dcee52889e2d8acc3  503740e9ca751ccdda7ba28e9ab8f608   \n",
       "6  136cce7faa42fdb2cefd53fdc79a6098  ed0271e0b7da060a393796590e7b737a   \n",
       "7  6514b8ad8028c9f2cc2374ded245783f  9bdf08b4b3b52b5526ff42d37d47f222   \n",
       "8  76c6e866289321a7c93b82b54852dc33  f54a9f0e6b351c431402b8461ea51999   \n",
       "9  e69bfb5eb88e0ed6a785585b27e16dbf  31ad1d1b63eb9962463f764d4e6e0c9d   \n",
       "\n",
       "  order_status order_purchase_timestamp   order_approved_at  \\\n",
       "0    delivered      2017-10-02 10:56:33 2017-10-02 11:07:15   \n",
       "1    delivered      2018-07-24 20:41:37 2018-07-26 03:24:27   \n",
       "2    delivered      2018-08-08 08:38:49 2018-08-08 08:55:23   \n",
       "3    delivered      2017-11-18 19:28:06 2017-11-18 19:45:59   \n",
       "4    delivered      2018-02-13 21:18:39 2018-02-13 22:20:29   \n",
       "5    delivered      2017-07-09 21:57:05 2017-07-09 22:10:13   \n",
       "6     invoiced      2017-04-11 12:22:08 2017-04-13 13:25:17   \n",
       "7    delivered      2017-05-16 13:10:30 2017-05-16 13:22:11   \n",
       "8    delivered      2017-01-23 18:29:09 2017-01-25 02:50:47   \n",
       "9    delivered      2017-07-29 11:55:02 2017-07-29 12:05:32   \n",
       "\n",
       "  order_delivered_carrier_date order_delivered_customer_date  \\\n",
       "0          2017-10-04 19:55:00           2017-10-10 21:25:13   \n",
       "1          2018-07-26 14:31:00           2018-08-07 15:27:45   \n",
       "2          2018-08-08 13:50:00           2018-08-17 18:06:29   \n",
       "3          2017-11-22 13:39:59           2017-12-02 00:28:42   \n",
       "4          2018-02-14 19:46:34           2018-02-16 18:17:02   \n",
       "5          2017-07-11 14:58:04           2017-07-26 10:57:55   \n",
       "6                          NaT                           NaT   \n",
       "7          2017-05-22 10:07:46           2017-05-26 12:55:51   \n",
       "8          2017-01-26 14:16:31           2017-02-02 14:08:10   \n",
       "9          2017-08-10 19:45:24           2017-08-16 17:14:30   \n",
       "\n",
       "  order_estimated_delivery_date  \n",
       "0                    2017-10-18  \n",
       "1                    2018-08-13  \n",
       "2                    2018-09-04  \n",
       "3                    2017-12-15  \n",
       "4                    2018-02-26  \n",
       "5                    2017-08-01  \n",
       "6                    2017-05-09  \n",
       "7                    2017-06-07  \n",
       "8                    2017-03-06  \n",
       "9                    2017-08-23  "
      ]
     },
     "execution_count": 18,
     "metadata": {},
     "output_type": "execute_result"
    }
   ],
   "source": [
    "#there are different dates regarding the ordering and delivery of a product\n",
    "#what if I want to find out the average timespan between order and delivery?\n",
    "ordersdf.head(10)"
   ]
  },
  {
   "cell_type": "code",
   "execution_count": 19,
   "metadata": {},
   "outputs": [
    {
     "data": {
      "text/html": [
       "<div>\n",
       "<style scoped>\n",
       "    .dataframe tbody tr th:only-of-type {\n",
       "        vertical-align: middle;\n",
       "    }\n",
       "\n",
       "    .dataframe tbody tr th {\n",
       "        vertical-align: top;\n",
       "    }\n",
       "\n",
       "    .dataframe thead th {\n",
       "        text-align: right;\n",
       "    }\n",
       "</style>\n",
       "<table border=\"1\" class=\"dataframe\">\n",
       "  <thead>\n",
       "    <tr style=\"text-align: right;\">\n",
       "      <th></th>\n",
       "      <th>order_id</th>\n",
       "      <th>customer_id</th>\n",
       "      <th>order_status</th>\n",
       "      <th>Purchased_At</th>\n",
       "      <th>Approved_At</th>\n",
       "      <th>Delivered_to_Carrier_On</th>\n",
       "      <th>Delivered_to_Customer_On</th>\n",
       "      <th>Estimated_Delivery_On</th>\n",
       "    </tr>\n",
       "  </thead>\n",
       "  <tbody>\n",
       "    <tr>\n",
       "      <th>0</th>\n",
       "      <td>e481f51cbdc54678b7cc49136f2d6af7</td>\n",
       "      <td>9ef432eb6251297304e76186b10a928d</td>\n",
       "      <td>delivered</td>\n",
       "      <td>2017-10-02 10:56:33</td>\n",
       "      <td>2017-10-02 11:07:15</td>\n",
       "      <td>2017-10-04 19:55:00</td>\n",
       "      <td>2017-10-10 21:25:13</td>\n",
       "      <td>2017-10-18</td>\n",
       "    </tr>\n",
       "    <tr>\n",
       "      <th>1</th>\n",
       "      <td>53cdb2fc8bc7dce0b6741e2150273451</td>\n",
       "      <td>b0830fb4747a6c6d20dea0b8c802d7ef</td>\n",
       "      <td>delivered</td>\n",
       "      <td>2018-07-24 20:41:37</td>\n",
       "      <td>2018-07-26 03:24:27</td>\n",
       "      <td>2018-07-26 14:31:00</td>\n",
       "      <td>2018-08-07 15:27:45</td>\n",
       "      <td>2018-08-13</td>\n",
       "    </tr>\n",
       "    <tr>\n",
       "      <th>2</th>\n",
       "      <td>47770eb9100c2d0c44946d9cf07ec65d</td>\n",
       "      <td>41ce2a54c0b03bf3443c3d931a367089</td>\n",
       "      <td>delivered</td>\n",
       "      <td>2018-08-08 08:38:49</td>\n",
       "      <td>2018-08-08 08:55:23</td>\n",
       "      <td>2018-08-08 13:50:00</td>\n",
       "      <td>2018-08-17 18:06:29</td>\n",
       "      <td>2018-09-04</td>\n",
       "    </tr>\n",
       "    <tr>\n",
       "      <th>3</th>\n",
       "      <td>949d5b44dbf5de918fe9c16f97b45f8a</td>\n",
       "      <td>f88197465ea7920adcdbec7375364d82</td>\n",
       "      <td>delivered</td>\n",
       "      <td>2017-11-18 19:28:06</td>\n",
       "      <td>2017-11-18 19:45:59</td>\n",
       "      <td>2017-11-22 13:39:59</td>\n",
       "      <td>2017-12-02 00:28:42</td>\n",
       "      <td>2017-12-15</td>\n",
       "    </tr>\n",
       "    <tr>\n",
       "      <th>4</th>\n",
       "      <td>ad21c59c0840e6cb83a9ceb5573f8159</td>\n",
       "      <td>8ab97904e6daea8866dbdbc4fb7aad2c</td>\n",
       "      <td>delivered</td>\n",
       "      <td>2018-02-13 21:18:39</td>\n",
       "      <td>2018-02-13 22:20:29</td>\n",
       "      <td>2018-02-14 19:46:34</td>\n",
       "      <td>2018-02-16 18:17:02</td>\n",
       "      <td>2018-02-26</td>\n",
       "    </tr>\n",
       "    <tr>\n",
       "      <th>5</th>\n",
       "      <td>a4591c265e18cb1dcee52889e2d8acc3</td>\n",
       "      <td>503740e9ca751ccdda7ba28e9ab8f608</td>\n",
       "      <td>delivered</td>\n",
       "      <td>2017-07-09 21:57:05</td>\n",
       "      <td>2017-07-09 22:10:13</td>\n",
       "      <td>2017-07-11 14:58:04</td>\n",
       "      <td>2017-07-26 10:57:55</td>\n",
       "      <td>2017-08-01</td>\n",
       "    </tr>\n",
       "    <tr>\n",
       "      <th>6</th>\n",
       "      <td>136cce7faa42fdb2cefd53fdc79a6098</td>\n",
       "      <td>ed0271e0b7da060a393796590e7b737a</td>\n",
       "      <td>invoiced</td>\n",
       "      <td>2017-04-11 12:22:08</td>\n",
       "      <td>2017-04-13 13:25:17</td>\n",
       "      <td>NaT</td>\n",
       "      <td>NaT</td>\n",
       "      <td>2017-05-09</td>\n",
       "    </tr>\n",
       "    <tr>\n",
       "      <th>7</th>\n",
       "      <td>6514b8ad8028c9f2cc2374ded245783f</td>\n",
       "      <td>9bdf08b4b3b52b5526ff42d37d47f222</td>\n",
       "      <td>delivered</td>\n",
       "      <td>2017-05-16 13:10:30</td>\n",
       "      <td>2017-05-16 13:22:11</td>\n",
       "      <td>2017-05-22 10:07:46</td>\n",
       "      <td>2017-05-26 12:55:51</td>\n",
       "      <td>2017-06-07</td>\n",
       "    </tr>\n",
       "    <tr>\n",
       "      <th>8</th>\n",
       "      <td>76c6e866289321a7c93b82b54852dc33</td>\n",
       "      <td>f54a9f0e6b351c431402b8461ea51999</td>\n",
       "      <td>delivered</td>\n",
       "      <td>2017-01-23 18:29:09</td>\n",
       "      <td>2017-01-25 02:50:47</td>\n",
       "      <td>2017-01-26 14:16:31</td>\n",
       "      <td>2017-02-02 14:08:10</td>\n",
       "      <td>2017-03-06</td>\n",
       "    </tr>\n",
       "    <tr>\n",
       "      <th>9</th>\n",
       "      <td>e69bfb5eb88e0ed6a785585b27e16dbf</td>\n",
       "      <td>31ad1d1b63eb9962463f764d4e6e0c9d</td>\n",
       "      <td>delivered</td>\n",
       "      <td>2017-07-29 11:55:02</td>\n",
       "      <td>2017-07-29 12:05:32</td>\n",
       "      <td>2017-08-10 19:45:24</td>\n",
       "      <td>2017-08-16 17:14:30</td>\n",
       "      <td>2017-08-23</td>\n",
       "    </tr>\n",
       "  </tbody>\n",
       "</table>\n",
       "</div>"
      ],
      "text/plain": [
       "                           order_id                       customer_id  \\\n",
       "0  e481f51cbdc54678b7cc49136f2d6af7  9ef432eb6251297304e76186b10a928d   \n",
       "1  53cdb2fc8bc7dce0b6741e2150273451  b0830fb4747a6c6d20dea0b8c802d7ef   \n",
       "2  47770eb9100c2d0c44946d9cf07ec65d  41ce2a54c0b03bf3443c3d931a367089   \n",
       "3  949d5b44dbf5de918fe9c16f97b45f8a  f88197465ea7920adcdbec7375364d82   \n",
       "4  ad21c59c0840e6cb83a9ceb5573f8159  8ab97904e6daea8866dbdbc4fb7aad2c   \n",
       "5  a4591c265e18cb1dcee52889e2d8acc3  503740e9ca751ccdda7ba28e9ab8f608   \n",
       "6  136cce7faa42fdb2cefd53fdc79a6098  ed0271e0b7da060a393796590e7b737a   \n",
       "7  6514b8ad8028c9f2cc2374ded245783f  9bdf08b4b3b52b5526ff42d37d47f222   \n",
       "8  76c6e866289321a7c93b82b54852dc33  f54a9f0e6b351c431402b8461ea51999   \n",
       "9  e69bfb5eb88e0ed6a785585b27e16dbf  31ad1d1b63eb9962463f764d4e6e0c9d   \n",
       "\n",
       "  order_status        Purchased_At         Approved_At  \\\n",
       "0    delivered 2017-10-02 10:56:33 2017-10-02 11:07:15   \n",
       "1    delivered 2018-07-24 20:41:37 2018-07-26 03:24:27   \n",
       "2    delivered 2018-08-08 08:38:49 2018-08-08 08:55:23   \n",
       "3    delivered 2017-11-18 19:28:06 2017-11-18 19:45:59   \n",
       "4    delivered 2018-02-13 21:18:39 2018-02-13 22:20:29   \n",
       "5    delivered 2017-07-09 21:57:05 2017-07-09 22:10:13   \n",
       "6     invoiced 2017-04-11 12:22:08 2017-04-13 13:25:17   \n",
       "7    delivered 2017-05-16 13:10:30 2017-05-16 13:22:11   \n",
       "8    delivered 2017-01-23 18:29:09 2017-01-25 02:50:47   \n",
       "9    delivered 2017-07-29 11:55:02 2017-07-29 12:05:32   \n",
       "\n",
       "  Delivered_to_Carrier_On Delivered_to_Customer_On Estimated_Delivery_On  \n",
       "0     2017-10-04 19:55:00      2017-10-10 21:25:13            2017-10-18  \n",
       "1     2018-07-26 14:31:00      2018-08-07 15:27:45            2018-08-13  \n",
       "2     2018-08-08 13:50:00      2018-08-17 18:06:29            2018-09-04  \n",
       "3     2017-11-22 13:39:59      2017-12-02 00:28:42            2017-12-15  \n",
       "4     2018-02-14 19:46:34      2018-02-16 18:17:02            2018-02-26  \n",
       "5     2017-07-11 14:58:04      2017-07-26 10:57:55            2017-08-01  \n",
       "6                     NaT                      NaT            2017-05-09  \n",
       "7     2017-05-22 10:07:46      2017-05-26 12:55:51            2017-06-07  \n",
       "8     2017-01-26 14:16:31      2017-02-02 14:08:10            2017-03-06  \n",
       "9     2017-08-10 19:45:24      2017-08-16 17:14:30            2017-08-23  "
      ]
     },
     "execution_count": 19,
     "metadata": {},
     "output_type": "execute_result"
    }
   ],
   "source": [
    "#all dates are objects so we have to convert them to datetime objects\n",
    "#lets change the column names first\n",
    "ordersdf = ordersdf.rename(columns = {\"order_purchase_timestamp\": \"Purchased_At\",\n",
    "                         \"order_approved_at\":\"Approved_At\",\n",
    "                         \"order_delivered_carrier_date\": \"Delivered_to_Carrier_On\",\n",
    "                         \"order_delivered_customer_date\": \"Delivered_to_Customer_On\",\n",
    "                         \"order_estimated_delivery_date\": \"Estimated_Delivery_On\"}) \n",
    "ordersdf.head(10)\n"
   ]
  },
  {
   "cell_type": "code",
   "execution_count": 20,
   "metadata": {},
   "outputs": [
    {
     "data": {
      "text/html": [
       "<div>\n",
       "<style scoped>\n",
       "    .dataframe tbody tr th:only-of-type {\n",
       "        vertical-align: middle;\n",
       "    }\n",
       "\n",
       "    .dataframe tbody tr th {\n",
       "        vertical-align: top;\n",
       "    }\n",
       "\n",
       "    .dataframe thead th {\n",
       "        text-align: right;\n",
       "    }\n",
       "</style>\n",
       "<table border=\"1\" class=\"dataframe\">\n",
       "  <thead>\n",
       "    <tr style=\"text-align: right;\">\n",
       "      <th></th>\n",
       "      <th>Purchased_At</th>\n",
       "      <th>Approved_At</th>\n",
       "      <th>Delivered_to_Carrier_On</th>\n",
       "      <th>Delivered_to_Customer_On</th>\n",
       "      <th>Estimated_Delivery_On</th>\n",
       "    </tr>\n",
       "  </thead>\n",
       "  <tbody>\n",
       "    <tr>\n",
       "      <th>0</th>\n",
       "      <td>2017-10-02 10:56:33</td>\n",
       "      <td>2017-10-02 11:07:15</td>\n",
       "      <td>2017-10-04 19:55:00</td>\n",
       "      <td>2017-10-10 21:25:13</td>\n",
       "      <td>2017-10-18</td>\n",
       "    </tr>\n",
       "    <tr>\n",
       "      <th>1</th>\n",
       "      <td>2018-07-24 20:41:37</td>\n",
       "      <td>2018-07-26 03:24:27</td>\n",
       "      <td>2018-07-26 14:31:00</td>\n",
       "      <td>2018-08-07 15:27:45</td>\n",
       "      <td>2018-08-13</td>\n",
       "    </tr>\n",
       "    <tr>\n",
       "      <th>2</th>\n",
       "      <td>2018-08-08 08:38:49</td>\n",
       "      <td>2018-08-08 08:55:23</td>\n",
       "      <td>2018-08-08 13:50:00</td>\n",
       "      <td>2018-08-17 18:06:29</td>\n",
       "      <td>2018-09-04</td>\n",
       "    </tr>\n",
       "    <tr>\n",
       "      <th>3</th>\n",
       "      <td>2017-11-18 19:28:06</td>\n",
       "      <td>2017-11-18 19:45:59</td>\n",
       "      <td>2017-11-22 13:39:59</td>\n",
       "      <td>2017-12-02 00:28:42</td>\n",
       "      <td>2017-12-15</td>\n",
       "    </tr>\n",
       "    <tr>\n",
       "      <th>4</th>\n",
       "      <td>2018-02-13 21:18:39</td>\n",
       "      <td>2018-02-13 22:20:29</td>\n",
       "      <td>2018-02-14 19:46:34</td>\n",
       "      <td>2018-02-16 18:17:02</td>\n",
       "      <td>2018-02-26</td>\n",
       "    </tr>\n",
       "    <tr>\n",
       "      <th>5</th>\n",
       "      <td>2017-07-09 21:57:05</td>\n",
       "      <td>2017-07-09 22:10:13</td>\n",
       "      <td>2017-07-11 14:58:04</td>\n",
       "      <td>2017-07-26 10:57:55</td>\n",
       "      <td>2017-08-01</td>\n",
       "    </tr>\n",
       "    <tr>\n",
       "      <th>6</th>\n",
       "      <td>2017-04-11 12:22:08</td>\n",
       "      <td>2017-04-13 13:25:17</td>\n",
       "      <td>NaT</td>\n",
       "      <td>NaT</td>\n",
       "      <td>2017-05-09</td>\n",
       "    </tr>\n",
       "    <tr>\n",
       "      <th>7</th>\n",
       "      <td>2017-05-16 13:10:30</td>\n",
       "      <td>2017-05-16 13:22:11</td>\n",
       "      <td>2017-05-22 10:07:46</td>\n",
       "      <td>2017-05-26 12:55:51</td>\n",
       "      <td>2017-06-07</td>\n",
       "    </tr>\n",
       "    <tr>\n",
       "      <th>8</th>\n",
       "      <td>2017-01-23 18:29:09</td>\n",
       "      <td>2017-01-25 02:50:47</td>\n",
       "      <td>2017-01-26 14:16:31</td>\n",
       "      <td>2017-02-02 14:08:10</td>\n",
       "      <td>2017-03-06</td>\n",
       "    </tr>\n",
       "    <tr>\n",
       "      <th>9</th>\n",
       "      <td>2017-07-29 11:55:02</td>\n",
       "      <td>2017-07-29 12:05:32</td>\n",
       "      <td>2017-08-10 19:45:24</td>\n",
       "      <td>2017-08-16 17:14:30</td>\n",
       "      <td>2017-08-23</td>\n",
       "    </tr>\n",
       "  </tbody>\n",
       "</table>\n",
       "</div>"
      ],
      "text/plain": [
       "         Purchased_At         Approved_At Delivered_to_Carrier_On  \\\n",
       "0 2017-10-02 10:56:33 2017-10-02 11:07:15     2017-10-04 19:55:00   \n",
       "1 2018-07-24 20:41:37 2018-07-26 03:24:27     2018-07-26 14:31:00   \n",
       "2 2018-08-08 08:38:49 2018-08-08 08:55:23     2018-08-08 13:50:00   \n",
       "3 2017-11-18 19:28:06 2017-11-18 19:45:59     2017-11-22 13:39:59   \n",
       "4 2018-02-13 21:18:39 2018-02-13 22:20:29     2018-02-14 19:46:34   \n",
       "5 2017-07-09 21:57:05 2017-07-09 22:10:13     2017-07-11 14:58:04   \n",
       "6 2017-04-11 12:22:08 2017-04-13 13:25:17                     NaT   \n",
       "7 2017-05-16 13:10:30 2017-05-16 13:22:11     2017-05-22 10:07:46   \n",
       "8 2017-01-23 18:29:09 2017-01-25 02:50:47     2017-01-26 14:16:31   \n",
       "9 2017-07-29 11:55:02 2017-07-29 12:05:32     2017-08-10 19:45:24   \n",
       "\n",
       "  Delivered_to_Customer_On Estimated_Delivery_On  \n",
       "0      2017-10-10 21:25:13            2017-10-18  \n",
       "1      2018-08-07 15:27:45            2018-08-13  \n",
       "2      2018-08-17 18:06:29            2018-09-04  \n",
       "3      2017-12-02 00:28:42            2017-12-15  \n",
       "4      2018-02-16 18:17:02            2018-02-26  \n",
       "5      2017-07-26 10:57:55            2017-08-01  \n",
       "6                      NaT            2017-05-09  \n",
       "7      2017-05-26 12:55:51            2017-06-07  \n",
       "8      2017-02-02 14:08:10            2017-03-06  \n",
       "9      2017-08-16 17:14:30            2017-08-23  "
      ]
     },
     "execution_count": 20,
     "metadata": {},
     "output_type": "execute_result"
    }
   ],
   "source": [
    "#lets have only the relevant columns for the time being\n",
    "ordersdf = ordersdf[['Purchased_At', 'Approved_At', 'Delivered_to_Carrier_On', 'Delivered_to_Customer_On', 'Estimated_Delivery_On']]\n",
    "ordersdf.head(10)"
   ]
  },
  {
   "cell_type": "code",
   "execution_count": 21,
   "metadata": {},
   "outputs": [
    {
     "data": {
      "text/plain": [
       "Purchased_At                datetime64[ns]\n",
       "Approved_At                 datetime64[ns]\n",
       "Delivered_to_Carrier_On     datetime64[ns]\n",
       "Delivered_to_Customer_On    datetime64[ns]\n",
       "Estimated_Delivery_On       datetime64[ns]\n",
       "dtype: object"
      ]
     },
     "execution_count": 21,
     "metadata": {},
     "output_type": "execute_result"
    }
   ],
   "source": [
    "#lets typecast to datetime\n",
    "ordersdf['Purchased_At'] = pd.to_datetime(ordersdf['Purchased_At'])\n",
    "ordersdf['Approved_At'] = pd.to_datetime(ordersdf['Approved_At'])\n",
    "ordersdf['Delivered_to_Carrier_On'] = pd.to_datetime(ordersdf['Delivered_to_Carrier_On'])\n",
    "ordersdf['Delivered_to_Customer_On'] = pd.to_datetime(ordersdf['Delivered_to_Customer_On'])\n",
    "ordersdf['Estimated_Delivery_On'] = pd.to_datetime(ordersdf['Estimated_Delivery_On'])\n",
    "ordersdf.dtypes"
   ]
  },
  {
   "cell_type": "code",
   "execution_count": 22,
   "metadata": {},
   "outputs": [
    {
     "data": {
      "text/html": [
       "<div>\n",
       "<style scoped>\n",
       "    .dataframe tbody tr th:only-of-type {\n",
       "        vertical-align: middle;\n",
       "    }\n",
       "\n",
       "    .dataframe tbody tr th {\n",
       "        vertical-align: top;\n",
       "    }\n",
       "\n",
       "    .dataframe thead th {\n",
       "        text-align: right;\n",
       "    }\n",
       "</style>\n",
       "<table border=\"1\" class=\"dataframe\">\n",
       "  <thead>\n",
       "    <tr style=\"text-align: right;\">\n",
       "      <th></th>\n",
       "      <th>Purchased_At</th>\n",
       "      <th>Approved_At</th>\n",
       "      <th>Delivered_to_Carrier_On</th>\n",
       "      <th>Delivered_to_Customer_On</th>\n",
       "      <th>Estimated_Delivery_On</th>\n",
       "    </tr>\n",
       "  </thead>\n",
       "  <tbody>\n",
       "    <tr>\n",
       "      <th>0</th>\n",
       "      <td>2017-10-02 10:56:33</td>\n",
       "      <td>2017-10-02 11:07:15</td>\n",
       "      <td>2017-10-04 19:55:00</td>\n",
       "      <td>2017-10-10 21:25:13</td>\n",
       "      <td>2017-10-18</td>\n",
       "    </tr>\n",
       "    <tr>\n",
       "      <th>1</th>\n",
       "      <td>2018-07-24 20:41:37</td>\n",
       "      <td>2018-07-26 03:24:27</td>\n",
       "      <td>2018-07-26 14:31:00</td>\n",
       "      <td>2018-08-07 15:27:45</td>\n",
       "      <td>2018-08-13</td>\n",
       "    </tr>\n",
       "    <tr>\n",
       "      <th>2</th>\n",
       "      <td>2018-08-08 08:38:49</td>\n",
       "      <td>2018-08-08 08:55:23</td>\n",
       "      <td>2018-08-08 13:50:00</td>\n",
       "      <td>2018-08-17 18:06:29</td>\n",
       "      <td>2018-09-04</td>\n",
       "    </tr>\n",
       "    <tr>\n",
       "      <th>3</th>\n",
       "      <td>2017-11-18 19:28:06</td>\n",
       "      <td>2017-11-18 19:45:59</td>\n",
       "      <td>2017-11-22 13:39:59</td>\n",
       "      <td>2017-12-02 00:28:42</td>\n",
       "      <td>2017-12-15</td>\n",
       "    </tr>\n",
       "    <tr>\n",
       "      <th>4</th>\n",
       "      <td>2018-02-13 21:18:39</td>\n",
       "      <td>2018-02-13 22:20:29</td>\n",
       "      <td>2018-02-14 19:46:34</td>\n",
       "      <td>2018-02-16 18:17:02</td>\n",
       "      <td>2018-02-26</td>\n",
       "    </tr>\n",
       "    <tr>\n",
       "      <th>5</th>\n",
       "      <td>2017-07-09 21:57:05</td>\n",
       "      <td>2017-07-09 22:10:13</td>\n",
       "      <td>2017-07-11 14:58:04</td>\n",
       "      <td>2017-07-26 10:57:55</td>\n",
       "      <td>2017-08-01</td>\n",
       "    </tr>\n",
       "    <tr>\n",
       "      <th>6</th>\n",
       "      <td>2017-04-11 12:22:08</td>\n",
       "      <td>2017-04-13 13:25:17</td>\n",
       "      <td>NaT</td>\n",
       "      <td>NaT</td>\n",
       "      <td>2017-05-09</td>\n",
       "    </tr>\n",
       "    <tr>\n",
       "      <th>7</th>\n",
       "      <td>2017-05-16 13:10:30</td>\n",
       "      <td>2017-05-16 13:22:11</td>\n",
       "      <td>2017-05-22 10:07:46</td>\n",
       "      <td>2017-05-26 12:55:51</td>\n",
       "      <td>2017-06-07</td>\n",
       "    </tr>\n",
       "    <tr>\n",
       "      <th>8</th>\n",
       "      <td>2017-01-23 18:29:09</td>\n",
       "      <td>2017-01-25 02:50:47</td>\n",
       "      <td>2017-01-26 14:16:31</td>\n",
       "      <td>2017-02-02 14:08:10</td>\n",
       "      <td>2017-03-06</td>\n",
       "    </tr>\n",
       "    <tr>\n",
       "      <th>9</th>\n",
       "      <td>2017-07-29 11:55:02</td>\n",
       "      <td>2017-07-29 12:05:32</td>\n",
       "      <td>2017-08-10 19:45:24</td>\n",
       "      <td>2017-08-16 17:14:30</td>\n",
       "      <td>2017-08-23</td>\n",
       "    </tr>\n",
       "  </tbody>\n",
       "</table>\n",
       "</div>"
      ],
      "text/plain": [
       "         Purchased_At         Approved_At Delivered_to_Carrier_On  \\\n",
       "0 2017-10-02 10:56:33 2017-10-02 11:07:15     2017-10-04 19:55:00   \n",
       "1 2018-07-24 20:41:37 2018-07-26 03:24:27     2018-07-26 14:31:00   \n",
       "2 2018-08-08 08:38:49 2018-08-08 08:55:23     2018-08-08 13:50:00   \n",
       "3 2017-11-18 19:28:06 2017-11-18 19:45:59     2017-11-22 13:39:59   \n",
       "4 2018-02-13 21:18:39 2018-02-13 22:20:29     2018-02-14 19:46:34   \n",
       "5 2017-07-09 21:57:05 2017-07-09 22:10:13     2017-07-11 14:58:04   \n",
       "6 2017-04-11 12:22:08 2017-04-13 13:25:17                     NaT   \n",
       "7 2017-05-16 13:10:30 2017-05-16 13:22:11     2017-05-22 10:07:46   \n",
       "8 2017-01-23 18:29:09 2017-01-25 02:50:47     2017-01-26 14:16:31   \n",
       "9 2017-07-29 11:55:02 2017-07-29 12:05:32     2017-08-10 19:45:24   \n",
       "\n",
       "  Delivered_to_Customer_On Estimated_Delivery_On  \n",
       "0      2017-10-10 21:25:13            2017-10-18  \n",
       "1      2018-08-07 15:27:45            2018-08-13  \n",
       "2      2018-08-17 18:06:29            2018-09-04  \n",
       "3      2017-12-02 00:28:42            2017-12-15  \n",
       "4      2018-02-16 18:17:02            2018-02-26  \n",
       "5      2017-07-26 10:57:55            2017-08-01  \n",
       "6                      NaT            2017-05-09  \n",
       "7      2017-05-26 12:55:51            2017-06-07  \n",
       "8      2017-02-02 14:08:10            2017-03-06  \n",
       "9      2017-08-16 17:14:30            2017-08-23  "
      ]
     },
     "execution_count": 22,
     "metadata": {},
     "output_type": "execute_result"
    }
   ],
   "source": [
    "#lets see some rows\n",
    "ordersdf.head(10)"
   ]
  },
  {
   "cell_type": "code",
   "execution_count": 23,
   "metadata": {},
   "outputs": [
    {
     "data": {
      "text/plain": [
       "10.419094301919714"
      ]
     },
     "execution_count": 23,
     "metadata": {},
     "output_type": "execute_result"
    }
   ],
   "source": [
    "#what is the average difference between order time and approval time\n",
    "between_order_approval = ordersdf['Approved_At']-ordersdf['Purchased_At']\n",
    "between_order_approval.apply(lambda x: (x.total_seconds())/3600).mean()\n",
    "\n",
    "#whoa... 10 hours is the average time between order and approval.. this seems a bit too much\n",
    "#we will dig this later"
   ]
  },
  {
   "cell_type": "code",
   "execution_count": 24,
   "metadata": {},
   "outputs": [
    {
     "data": {
      "text/plain": [
       "-268.2988771156704"
      ]
     },
     "execution_count": 24,
     "metadata": {},
     "output_type": "execute_result"
    }
   ],
   "source": [
    "#what is the average difference between expected delivery time and actual customer delivery time\n",
    "#assuming that the orders are being delivered later than the estimated date....\n",
    "between_estimated_actual = ordersdf['Delivered_to_Customer_On']-ordersdf['Estimated_Delivery_On']\n",
    "between_estimated_actual.apply(lambda x: (x.total_seconds())/3600).mean()\n",
    "\n",
    "#so, -268 hours means that the orders are being delivered 268 hours (or 11 days before, on the average)\n",
    "#this also seems too good; we need to drill down (or maybe taking averages in this way is not the best analysis)"
   ]
  },
  {
   "cell_type": "code",
   "execution_count": 25,
   "metadata": {},
   "outputs": [
    {
     "data": {
      "text/plain": [
       "291.12857102624093"
      ]
     },
     "execution_count": 25,
     "metadata": {},
     "output_type": "execute_result"
    }
   ],
   "source": [
    "#what is the average difference between approval and actual delivery\n",
    "#assuming that the orders are being delivered later than the estimated date....\n",
    "between_approved_actual = ordersdf['Delivered_to_Customer_On']-ordersdf['Approved_At']\n",
    "between_approved_actual.apply(lambda x: (x.total_seconds())/3600).mean()\n",
    "\n",
    "#so it takes 291 hours or 12 days on the average from approval to delivery. this seems reasonable."
   ]
  },
  {
   "cell_type": "code",
   "execution_count": 26,
   "metadata": {},
   "outputs": [],
   "source": [
    "#let's see the figures between order and approval\n",
    "timediffseries = between_order_approval.apply(lambda x: (x.total_seconds())/3600)\n",
    "newdf = pd.DataFrame(timediffseries,index = np.arange(len(timediffseries)),columns=['TimeDiff'])"
   ]
  },
  {
   "cell_type": "code",
   "execution_count": 27,
   "metadata": {},
   "outputs": [
    {
     "data": {
      "text/html": [
       "<div>\n",
       "<style scoped>\n",
       "    .dataframe tbody tr th:only-of-type {\n",
       "        vertical-align: middle;\n",
       "    }\n",
       "\n",
       "    .dataframe tbody tr th {\n",
       "        vertical-align: top;\n",
       "    }\n",
       "\n",
       "    .dataframe thead th {\n",
       "        text-align: right;\n",
       "    }\n",
       "</style>\n",
       "<table border=\"1\" class=\"dataframe\">\n",
       "  <thead>\n",
       "    <tr style=\"text-align: right;\">\n",
       "      <th></th>\n",
       "      <th>TimeDiff</th>\n",
       "    </tr>\n",
       "  </thead>\n",
       "  <tbody>\n",
       "    <tr>\n",
       "      <th>0</th>\n",
       "      <td>0.178333</td>\n",
       "    </tr>\n",
       "    <tr>\n",
       "      <th>1</th>\n",
       "      <td>30.713889</td>\n",
       "    </tr>\n",
       "    <tr>\n",
       "      <th>2</th>\n",
       "      <td>0.276111</td>\n",
       "    </tr>\n",
       "    <tr>\n",
       "      <th>3</th>\n",
       "      <td>0.298056</td>\n",
       "    </tr>\n",
       "    <tr>\n",
       "      <th>4</th>\n",
       "      <td>1.030556</td>\n",
       "    </tr>\n",
       "    <tr>\n",
       "      <th>...</th>\n",
       "      <td>...</td>\n",
       "    </tr>\n",
       "    <tr>\n",
       "      <th>95</th>\n",
       "      <td>0.532500</td>\n",
       "    </tr>\n",
       "    <tr>\n",
       "      <th>96</th>\n",
       "      <td>0.280833</td>\n",
       "    </tr>\n",
       "    <tr>\n",
       "      <th>97</th>\n",
       "      <td>0.241111</td>\n",
       "    </tr>\n",
       "    <tr>\n",
       "      <th>98</th>\n",
       "      <td>0.243056</td>\n",
       "    </tr>\n",
       "    <tr>\n",
       "      <th>99</th>\n",
       "      <td>0.363333</td>\n",
       "    </tr>\n",
       "  </tbody>\n",
       "</table>\n",
       "<p>100 rows × 1 columns</p>\n",
       "</div>"
      ],
      "text/plain": [
       "     TimeDiff\n",
       "0    0.178333\n",
       "1   30.713889\n",
       "2    0.276111\n",
       "3    0.298056\n",
       "4    1.030556\n",
       "..        ...\n",
       "95   0.532500\n",
       "96   0.280833\n",
       "97   0.241111\n",
       "98   0.243056\n",
       "99   0.363333\n",
       "\n",
       "[100 rows x 1 columns]"
      ]
     },
     "execution_count": 27,
     "metadata": {},
     "output_type": "execute_result"
    }
   ],
   "source": [
    "newdf.head(100)"
   ]
  },
  {
   "cell_type": "code",
   "execution_count": 28,
   "metadata": {},
   "outputs": [
    {
     "name": "stdout",
     "output_type": "stream",
     "text": [
      "(99441, 1)\n",
      "TimeDiff    10.419094\n",
      "dtype: float64\n",
      "TimeDiff    30.329542\n",
      "dtype: float64\n",
      "TimeDiff    28.217737\n",
      "dtype: float64\n",
      "TimeDiff    4.759606\n",
      "dtype: float64\n",
      "TimeDiff    1.013666\n",
      "dtype: float64\n"
     ]
    }
   ],
   "source": [
    "print(newdf.shape)\n",
    "print(newdf.mean())\n",
    "\n",
    "#the following shows that in 30% rows, time difference is greater than 5 minutes\n",
    "print((((newdf.where(newdf['TimeDiff']>5).count())/99441)*100))\n",
    "\n",
    "#the following shows that in 28% rows, time difference is greater than 10 minutes\n",
    "print((((newdf.where(newdf['TimeDiff']>10).count())/99441)*100))\n",
    "\n",
    "#the following shows that in 5% rows, time difference is greater than 50 minutes\n",
    "print((((newdf.where(newdf['TimeDiff']>50).count())/99441)*100))\n",
    "\n",
    "#the following shows that in 1% rows, time difference is greater than 90 minutes\n",
    "print((((newdf.where(newdf['TimeDiff']>90).count())/99441)*100))\n",
    "\n"
   ]
  },
  {
   "cell_type": "code",
   "execution_count": 29,
   "metadata": {},
   "outputs": [
    {
     "data": {
      "text/plain": [
       "<matplotlib.axes._subplots.AxesSubplot at 0x1bdf3e7dbe0>"
      ]
     },
     "execution_count": 29,
     "metadata": {},
     "output_type": "execute_result"
    },
    {
     "data": {
      "image/png": "[encoded data removed]",
      "text/plain": [
       "<Figure size 432x288 with 1 Axes>"
      ]
     },
     "metadata": {
      "needs_background": "light"
     },
     "output_type": "display_data"
    }
   ],
   "source": [
    "#so there are outliers.... let's plot the histogram\n",
    "newdf['TimeDiff'].hist()\n",
    "\n",
    "#from this histogram, we can sense some outliers..."
   ]
  },
  {
   "cell_type": "code",
   "execution_count": 30,
   "metadata": {},
   "outputs": [
    {
     "data": {
      "text/plain": [
       "<matplotlib.axes._subplots.AxesSubplot at 0x1bdf74ca9d0>"
      ]
     },
     "execution_count": 30,
     "metadata": {},
     "output_type": "execute_result"
    },
    {
     "data": {
      "image/png": "[encoded data removed]",
      "text/plain": [
       "<Figure size 432x288 with 1 Axes>"
      ]
     },
     "metadata": {
      "needs_background": "light"
     },
     "output_type": "display_data"
    }
   ],
   "source": [
    "#to confirm lets plot the first 100 rows histogram\n",
    "newdf = pd.DataFrame(timediffseries,index = np.arange(len(timediffseries)),columns=['TimeDiff'])\n",
    "newdf['TimeDiff'].head(100).hist()"
   ]
  },
  {
   "cell_type": "code",
   "execution_count": 31,
   "metadata": {},
   "outputs": [
    {
     "data": {
      "text/plain": [
       "<matplotlib.axes._subplots.AxesSubplot at 0x1bdf6728580>"
      ]
     },
     "execution_count": 31,
     "metadata": {},
     "output_type": "execute_result"
    },
    {
     "data": {
      "image/png": "[encoded data removed]",
      "text/plain": [
       "<Figure size 432x288 with 1 Axes>"
      ]
     },
     "metadata": {
      "needs_background": "light"
     },
     "output_type": "display_data"
    }
   ],
   "source": [
    "#lets see the boxplot to confirm\n",
    "newdf.boxplot(column='TimeDiff', sym='o', return_type='axes')"
   ]
  },
  {
   "cell_type": "code",
   "execution_count": 32,
   "metadata": {},
   "outputs": [
    {
     "data": {
      "text/html": [
       "<div>\n",
       "<style scoped>\n",
       "    .dataframe tbody tr th:only-of-type {\n",
       "        vertical-align: middle;\n",
       "    }\n",
       "\n",
       "    .dataframe tbody tr th {\n",
       "        vertical-align: top;\n",
       "    }\n",
       "\n",
       "    .dataframe thead th {\n",
       "        text-align: right;\n",
       "    }\n",
       "</style>\n",
       "<table border=\"1\" class=\"dataframe\">\n",
       "  <thead>\n",
       "    <tr style=\"text-align: right;\">\n",
       "      <th></th>\n",
       "      <th>TimeDiff</th>\n",
       "    </tr>\n",
       "  </thead>\n",
       "  <tbody>\n",
       "    <tr>\n",
       "      <th>47552</th>\n",
       "      <td>4509.180556</td>\n",
       "    </tr>\n",
       "    <tr>\n",
       "      <th>62293</th>\n",
       "      <td>1450.866389</td>\n",
       "    </tr>\n",
       "  </tbody>\n",
       "</table>\n",
       "</div>"
      ],
      "text/plain": [
       "          TimeDiff\n",
       "47552  4509.180556\n",
       "62293  1450.866389"
      ]
     },
     "execution_count": 32,
     "metadata": {},
     "output_type": "execute_result"
    }
   ],
   "source": [
    "#so we have two points, one where TimeDiff>1000 and one >4000\n",
    "#lets see those rows\n",
    "newdf[newdf['TimeDiff']>1000]"
   ]
  },
  {
   "cell_type": "code",
   "execution_count": 33,
   "metadata": {},
   "outputs": [
    {
     "data": {
      "text/plain": [
       "<matplotlib.axes._subplots.AxesSubplot at 0x1bdf5009550>"
      ]
     },
     "execution_count": 33,
     "metadata": {},
     "output_type": "execute_result"
    },
    {
     "data": {
      "image/png": "[encoded data removed]",
      "text/plain": [
       "<Figure size 432x288 with 1 Axes>"
      ]
     },
     "metadata": {
      "needs_background": "light"
     },
     "output_type": "display_data"
    }
   ],
   "source": [
    "#lets skip them and see the boxplot\n",
    "subset = newdf[(newdf.index != 47552) & (newdf.index != 62293)]\n",
    "subset.count()\n",
    "\n",
    "subset.boxplot(column='TimeDiff', sym='o', return_type='axes')\n",
    "#still we see that there are problems...ie some orders are taking too long for approval.."
   ]
  },
  {
   "cell_type": "code",
   "execution_count": 34,
   "metadata": {},
   "outputs": [
    {
     "name": "stdout",
     "output_type": "stream",
     "text": [
      "TimeDiff    98627\n",
      "dtype: int64\n"
     ]
    },
    {
     "data": {
      "text/plain": [
       "<matplotlib.axes._subplots.AxesSubplot at 0x1bdf4ad2d00>"
      ]
     },
     "execution_count": 34,
     "metadata": {},
     "output_type": "execute_result"
    },
    {
     "data": {
      "image/png": "[encoded data removed]",
      "text/plain": [
       "<Figure size 432x288 with 1 Axes>"
      ]
     },
     "metadata": {
      "needs_background": "light"
     },
     "output_type": "display_data"
    }
   ],
   "source": [
    "subset = newdf[newdf['TimeDiff']<100]\n",
    "print(subset.count())\n",
    "\n",
    "subset.boxplot(column='TimeDiff', sym='o', return_type='axes')"
   ]
  },
  {
   "cell_type": "code",
   "execution_count": 35,
   "metadata": {},
   "outputs": [
    {
     "name": "stdout",
     "output_type": "stream",
     "text": [
      "TimeDiff    91969\n",
      "dtype: int64\n"
     ]
    },
    {
     "data": {
      "text/plain": [
       "<matplotlib.axes._subplots.AxesSubplot at 0x1bdf69f7850>"
      ]
     },
     "execution_count": 35,
     "metadata": {},
     "output_type": "execute_result"
    },
    {
     "data": {
      "image/png": "[encoded data removed]",
      "text/plain": [
       "<Figure size 432x288 with 1 Axes>"
      ]
     },
     "metadata": {
      "needs_background": "light"
     },
     "output_type": "display_data"
    }
   ],
   "source": [
    "#lets do it once more with 40\n",
    "subset = newdf[newdf['TimeDiff']<40]\n",
    "print(subset.count())\n",
    "\n",
    "subset.boxplot(column='TimeDiff', sym='o', return_type='axes')"
   ]
  },
  {
   "cell_type": "code",
   "execution_count": 36,
   "metadata": {},
   "outputs": [
    {
     "name": "stdout",
     "output_type": "stream",
     "text": [
      "TimeDiff    7312\n",
      "dtype: int64\n"
     ]
    }
   ],
   "source": [
    "#let us try to find out how many rows are above 40\n",
    "subset = newdf[newdf['TimeDiff']>40]\n",
    "print(subset.count())\n",
    "\n",
    "#so these all can be considered as sort of outliers.. but the way the orders are being processed needs to be drilled down\n",
    "#i guess this has to do with different products."
   ]
  },
  {
   "cell_type": "code",
   "execution_count": 37,
   "metadata": {},
   "outputs": [
    {
     "name": "stdout",
     "output_type": "stream",
     "text": [
      "TimeDiff    59337\n",
      "dtype: int64\n"
     ]
    },
    {
     "data": {
      "text/plain": [
       "<matplotlib.axes._subplots.AxesSubplot at 0x1bdf7296640>"
      ]
     },
     "execution_count": 37,
     "metadata": {},
     "output_type": "execute_result"
    },
    {
     "data": {
      "image/png": "[encoded data removed]",
      "text/plain": [
       "<Figure size 432x288 with 1 Axes>"
      ]
     },
     "metadata": {
      "needs_background": "light"
     },
     "output_type": "display_data"
    }
   ],
   "source": [
    "subset = newdf[newdf['TimeDiff']<0.6]\n",
    "print(subset.count())\n",
    "subset.boxplot(column='TimeDiff', sym='o', return_type='axes')"
   ]
  },
  {
   "cell_type": "code",
   "execution_count": 38,
   "metadata": {},
   "outputs": [
    {
     "name": "stdout",
     "output_type": "stream",
     "text": [
      "TimeDiff    66747\n",
      "dtype: int64\n"
     ]
    },
    {
     "data": {
      "text/plain": [
       "<matplotlib.axes._subplots.AxesSubplot at 0x1bdf6fe5e20>"
      ]
     },
     "execution_count": 38,
     "metadata": {},
     "output_type": "execute_result"
    },
    {
     "data": {
      "image/png": "[encoded data removed]",
      "text/plain": [
       "<Figure size 432x288 with 1 Axes>"
      ]
     },
     "metadata": {
      "needs_background": "light"
     },
     "output_type": "display_data"
    }
   ],
   "source": [
    "subset = newdf[newdf['TimeDiff']<2]\n",
    "print(subset.count())\n",
    "subset.boxplot(column='TimeDiff', sym='o', return_type='axes')"
   ]
  },
  {
   "cell_type": "code",
   "execution_count": null,
   "metadata": {},
   "outputs": [],
   "source": [
    "subset = newdf[newdf['TimeDiff']<3]\n",
    "print(subset.count())\n",
    "subset.boxplot(column='TimeDiff', sym='o', return_type='axes')"
   ]
  },
  {
   "cell_type": "code",
   "execution_count": 40,
   "metadata": {},
   "outputs": [
    {
     "ename": "NameError",
     "evalue": "name 'df' is not defined",
     "output_type": "error",
     "traceback": [
      "\u001b[1;31m---------------------------------------------------------------------------\u001b[0m",
      "\u001b[1;31mNameError\u001b[0m                                 Traceback (most recent call last)",
      "\u001b[1;32m<ipython-input-40-00cf07b74dcd>\u001b[0m in \u001b[0;36m<module>\u001b[1;34m\u001b[0m\n\u001b[1;32m----> 1\u001b[1;33m \u001b[0mdf\u001b[0m\u001b[1;33m\u001b[0m\u001b[1;33m\u001b[0m\u001b[0m\n\u001b[0m",
      "\u001b[1;31mNameError\u001b[0m: name 'df' is not defined"
     ]
    }
   ],
   "source": [
    "df"
   ]
  },
  {
   "cell_type": "code",
   "execution_count": null,
   "metadata": {},
   "outputs": [],
   "source": [
    "df.head()"
   ]
  },
  {
   "cell_type": "code",
   "execution_count": null,
   "metadata": {},
   "outputs": [],
   "source": []
  }
 ],
 "metadata": {
  "kernelspec": {
   "display_name": "Python 3",
   "language": "python",
   "name": "python3"
  },
  "language_info": {
   "codemirror_mode": {
    "name": "ipython",
    "version": 3
   },
   "file_extension": ".py",
   "mimetype": "text/x-python",
   "name": "python",
   "nbconvert_exporter": "python",
   "pygments_lexer": "ipython3",
   "version": "3.8.5"
  }
 },
 "nbformat": 4,
 "nbformat_minor": 4
}
