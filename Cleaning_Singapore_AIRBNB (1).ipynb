{
 "cells": [
  {
   "cell_type": "code",
   "execution_count": 2,
   "metadata": {},
   "outputs": [],
   "source": [
    "#importing relevant libraries\n",
    "import numpy as np\n",
    "import pandas as pd\n",
    "import seaborn as sns\n",
    "import re\n",
    "import string\n",
    "from scipy import stats"
   ]
  },
  {
   "cell_type": "code",
   "execution_count": 3,
   "metadata": {},
   "outputs": [],
   "source": [
    "# Reading Data \n",
    "df = pd.read_csv(r'C:\\Users\\muham\\Downloads\\singapore_airbnb_dirty_data.csv')"
   ]
  },
  {
   "cell_type": "code",
   "execution_count": 4,
   "metadata": {},
   "outputs": [
    {
     "name": "stdout",
     "output_type": "stream",
     "text": [
      "<class 'pandas.core.frame.DataFrame'>\n",
      "RangeIndex: 7907 entries, 0 to 7906\n",
      "Data columns (total 16 columns):\n",
      " #   Column                          Non-Null Count  Dtype  \n",
      "---  ------                          --------------  -----  \n",
      " 0   id                              7895 non-null   object \n",
      " 1   name                            7863 non-null   object \n",
      " 2   host_id                         7907 non-null   object \n",
      " 3   host_name                       7907 non-null   object \n",
      " 4   neighbourhood_group             7841 non-null   object \n",
      " 5   neighbourhood                   7870 non-null   object \n",
      " 6   latitude                        7907 non-null   float64\n",
      " 7   longitude                       7907 non-null   float64\n",
      " 8   room_type                       7890 non-null   object \n",
      " 9   price                           7907 non-null   int64  \n",
      " 10  minimum_nights                  7891 non-null   object \n",
      " 11  number_of_reviews               7907 non-null   int64  \n",
      " 12  last_review                     5149 non-null   object \n",
      " 13  reviews_per_month               5149 non-null   float64\n",
      " 14  calculated_host_listings_count  7907 non-null   int64  \n",
      " 15  availability_365                7521 non-null   float64\n",
      "dtypes: float64(4), int64(3), object(9)\n",
      "memory usage: 988.5+ KB\n"
     ]
    }
   ],
   "source": [
    "#Understanding the data \n",
    "df.info()"
   ]
  },
  {
   "cell_type": "code",
   "execution_count": 5,
   "metadata": {},
   "outputs": [],
   "source": [
    "#Some of the columns should be category type. Most of them are object type as data is dirty and inconsistent\n",
    "#Columns to be converted to Category: neighbourhood_group, room_type"
   ]
  },
  {
   "cell_type": "code",
   "execution_count": 6,
   "metadata": {},
   "outputs": [
    {
     "name": "stdout",
     "output_type": "stream",
     "text": [
      "Column Name\t\t\tNull Values\n"
     ]
    },
    {
     "data": {
      "text/plain": [
       "id                                  12\n",
       "name                                44\n",
       "host_id                              0\n",
       "host_name                            0\n",
       "neighbourhood_group                 66\n",
       "neighbourhood                       37\n",
       "latitude                             0\n",
       "longitude                            0\n",
       "room_type                           17\n",
       "price                                0\n",
       "minimum_nights                      16\n",
       "number_of_reviews                    0\n",
       "last_review                       2758\n",
       "reviews_per_month                 2758\n",
       "calculated_host_listings_count       0\n",
       "availability_365                   386\n",
       "dtype: int64"
      ]
     },
     "execution_count": 6,
     "metadata": {},
     "output_type": "execute_result"
    }
   ],
   "source": [
    "#Missing values in Each column\n",
    "print('Column Name' + '\\t\\t\\t' + 'Null Values')\n",
    "df.apply(lambda x: sum(x.isnull()),axis=0)"
   ]
  },
  {
   "cell_type": "code",
   "execution_count": 7,
   "metadata": {},
   "outputs": [
    {
     "name": "stdout",
     "output_type": "stream",
     "text": [
      "Column Name\t\t\tIsUnique\n"
     ]
    },
    {
     "data": {
      "text/plain": [
       "id                                False\n",
       "name                              False\n",
       "host_id                           False\n",
       "host_name                         False\n",
       "neighbourhood_group               False\n",
       "neighbourhood                     False\n",
       "latitude                          False\n",
       "longitude                         False\n",
       "room_type                         False\n",
       "price                             False\n",
       "minimum_nights                    False\n",
       "number_of_reviews                 False\n",
       "last_review                       False\n",
       "reviews_per_month                 False\n",
       "calculated_host_listings_count    False\n",
       "availability_365                  False\n",
       "dtype: bool"
      ]
     },
     "execution_count": 7,
     "metadata": {},
     "output_type": "execute_result"
    }
   ],
   "source": [
    "#Checking Unique Identifiers in our Data\n",
    "print('Column Name' + '\\t\\t\\t' + 'IsUnique')\n",
    "df.apply(lambda x: x.is_unique,axis=0)"
   ]
  },
  {
   "cell_type": "code",
   "execution_count": 8,
   "metadata": {},
   "outputs": [],
   "source": [
    "#Handling ID Column\n",
    "#The above output shows that ID is not unique. Hence, it can be dropped\n",
    "df = df.drop('id',axis=1)"
   ]
  },
  {
   "cell_type": "code",
   "execution_count": 9,
   "metadata": {},
   "outputs": [
    {
     "data": {
      "text/plain": [
       "name                                44\n",
       "host_id                              0\n",
       "host_name                            0\n",
       "neighbourhood_group                 66\n",
       "neighbourhood                       37\n",
       "latitude                             0\n",
       "longitude                            0\n",
       "room_type                           17\n",
       "price                                0\n",
       "minimum_nights                      16\n",
       "number_of_reviews                    0\n",
       "last_review                       2758\n",
       "reviews_per_month                 2758\n",
       "calculated_host_listings_count       0\n",
       "availability_365                   386\n",
       "dtype: int64"
      ]
     },
     "execution_count": 9,
     "metadata": {},
     "output_type": "execute_result"
    }
   ],
   "source": [
    "#Improvement 1 - ID column Dropped\n",
    "df.apply(lambda x: sum(x.isnull()),axis=0)"
   ]
  },
  {
   "cell_type": "markdown",
   "metadata": {},
   "source": [
    "# Neighbourhood Column "
   ]
  },
  {
   "cell_type": "code",
   "execution_count": 10,
   "metadata": {},
   "outputs": [
    {
     "name": "stdout",
     "output_type": "stream",
     "text": [
      "Central Region       31\n",
      "East Region           3\n",
      "North-East Region     2\n",
      "North Region          1\n",
      "Name: neighbourhood_group, dtype: int64\n"
     ]
    }
   ],
   "source": [
    "#Neighbourhood group values for records that are missing neighbourhood\n",
    "print(df[df['neighbourhood'].isnull()]['neighbourhood_group'].value_counts())"
   ]
  },
  {
   "cell_type": "code",
   "execution_count": 11,
   "metadata": {},
   "outputs": [
    {
     "name": "stdout",
     "output_type": "stream",
     "text": [
      "Kallang             1034\n",
      "Geylang              972\n",
      "Rochor               531\n",
      "Novena               529\n",
      "Outram               472\n",
      "Bukit Merah          463\n",
      "Downtown Core        426\n",
      "River Valley         357\n",
      "Queenstown           260\n",
      "Tanglin              206\n",
      "Singapore River      174\n",
      "Marine Parade        171\n",
      "Orchard              135\n",
      "Newton               133\n",
      "Bukit Timah          127\n",
      "Toa Payoh             99\n",
      "Museum                62\n",
      "Bishan                56\n",
      "Southern Islands      16\n",
      "Marina South           1\n",
      "Name: neighbourhood, dtype: int64\n"
     ]
    }
   ],
   "source": [
    "#Looking for neighbourhood value that occurs the most to be used as value in place of null group values\n",
    "print(df[df['neighbourhood_group'] == 'Central Region']['neighbourhood'].value_counts())"
   ]
  },
  {
   "cell_type": "code",
   "execution_count": 12,
   "metadata": {},
   "outputs": [],
   "source": [
    "#Replacing Central Region Neighbourhood values with Kallang\n",
    "cond = (df['neighbourhood_group'] == 'Central Region') & (df['neighbourhood'].isnull())\n",
    "df.loc[cond, 'neighbourhood'] = 'Kallang'"
   ]
  },
  {
   "cell_type": "code",
   "execution_count": 13,
   "metadata": {},
   "outputs": [
    {
     "name": "stdout",
     "output_type": "stream",
     "text": [
      "Bedok        369\n",
      "Pasir Ris     71\n",
      "Tampines      63\n",
      "Name: neighbourhood, dtype: int64\n"
     ]
    }
   ],
   "source": [
    "print(df[df['neighbourhood_group'] == 'East Region']['neighbourhood'].value_counts())"
   ]
  },
  {
   "cell_type": "code",
   "execution_count": 14,
   "metadata": {},
   "outputs": [],
   "source": [
    "#Replacing East Region Neighbourhood values with Bedok\n",
    "cond = (df['neighbourhood_group'] == 'East Region') & (df['neighbourhood'].isnull())\n",
    "df.loc[cond, 'neighbourhood'] = 'Bedok'"
   ]
  },
  {
   "cell_type": "code",
   "execution_count": 15,
   "metadata": {},
   "outputs": [
    {
     "name": "stdout",
     "output_type": "stream",
     "text": [
      "Hougang       108\n",
      "Serangoon      68\n",
      "Sengkang       67\n",
      "Ang Mo Kio     56\n",
      "Punggol        42\n",
      "Name: neighbourhood, dtype: int64\n"
     ]
    }
   ],
   "source": [
    "print(df[df['neighbourhood_group'] == 'North-East Region']['neighbourhood'].value_counts())"
   ]
  },
  {
   "cell_type": "code",
   "execution_count": 16,
   "metadata": {},
   "outputs": [],
   "source": [
    "#Replacing NE Region Neighbourhood values with Hougang\n",
    "cond = (df['neighbourhood_group'] == 'North-East Region') & (df['neighbourhood'].isnull())\n",
    "df.loc[cond, 'neighbourhood'] = 'Hougang'"
   ]
  },
  {
   "cell_type": "code",
   "execution_count": 17,
   "metadata": {},
   "outputs": [
    {
     "name": "stdout",
     "output_type": "stream",
     "text": [
      "Woodlands                  66\n",
      "Yishun                     52\n",
      "Sembawang                  40\n",
      "Central Water Catchment    34\n",
      "Sungei Kadut                5\n",
      "Mandai                      3\n",
      "Lim Chu Kang                1\n",
      "Name: neighbourhood, dtype: int64\n"
     ]
    }
   ],
   "source": [
    "print(df[df['neighbourhood_group'] == 'North Region']['neighbourhood'].value_counts())"
   ]
  },
  {
   "cell_type": "code",
   "execution_count": 18,
   "metadata": {},
   "outputs": [],
   "source": [
    "#Replacing North Region Neighbourhood values with Woodlands\n",
    "cond = (df['neighbourhood_group'] == 'North Region') & (df['neighbourhood'].isnull())\n",
    "df.loc[cond, 'neighbourhood'] = 'Woodlands'"
   ]
  },
  {
   "cell_type": "code",
   "execution_count": 19,
   "metadata": {},
   "outputs": [
    {
     "data": {
      "text/plain": [
       "name                                44\n",
       "host_id                              0\n",
       "host_name                            0\n",
       "neighbourhood_group                 66\n",
       "neighbourhood                        0\n",
       "latitude                             0\n",
       "longitude                            0\n",
       "room_type                           17\n",
       "price                                0\n",
       "minimum_nights                      16\n",
       "number_of_reviews                    0\n",
       "last_review                       2758\n",
       "reviews_per_month                 2758\n",
       "calculated_host_listings_count       0\n",
       "availability_365                   386\n",
       "dtype: int64"
      ]
     },
     "execution_count": 19,
     "metadata": {},
     "output_type": "execute_result"
    }
   ],
   "source": [
    "#Neighbourhood Column is now cleaned\n",
    "df.apply(lambda x: sum(x.isnull()),axis=0)"
   ]
  },
  {
   "cell_type": "markdown",
   "metadata": {},
   "source": [
    "# Neighbourhood Group Column"
   ]
  },
  {
   "cell_type": "code",
   "execution_count": 20,
   "metadata": {},
   "outputs": [
    {
     "name": "stdout",
     "output_type": "stream",
     "text": [
      "Geylang             12\n",
      "River Valley         5\n",
      "Bukit Merah          4\n",
      "Rochor               4\n",
      "Novena               4\n",
      "Tanglin              4\n",
      "Outram               3\n",
      "Queenstown           3\n",
      "Kallang              3\n",
      "Bukit Timah          3\n",
      "Bedok                2\n",
      "Downtown Core        2\n",
      "Toa Payoh            2\n",
      "Choa Chu Kang        1\n",
      "Yishun               1\n",
      "Orchard              1\n",
      "Newton               1\n",
      "Clementi             1\n",
      "Sembawang            1\n",
      "Ang Mo Kio           1\n",
      "Jurong West          1\n",
      "Hougang              1\n",
      "Bishan               1\n",
      "Serangoon            1\n",
      "Bukit Panjang        1\n",
      "Bukit Batok          1\n",
      "Southern Islands     1\n",
      "Singapore River      1\n",
      "Name: neighbourhood, dtype: int64\n"
     ]
    }
   ],
   "source": [
    "print(df[df['neighbourhood_group'].isnull()]['neighbourhood'].value_counts())"
   ]
  },
  {
   "cell_type": "code",
   "execution_count": 21,
   "metadata": {},
   "outputs": [
    {
     "data": {
      "text/plain": [
       "Central Region       6255\n",
       "West Region           535\n",
       "East Region           506\n",
       "North-East Region     343\n",
       "North Region          202\n",
       "Name: neighbourhood_group, dtype: int64"
      ]
     },
     "execution_count": 21,
     "metadata": {},
     "output_type": "execute_result"
    }
   ],
   "source": [
    "df['neighbourhood_group'].value_counts()"
   ]
  },
  {
   "cell_type": "code",
   "execution_count": 1,
   "metadata": {},
   "outputs": [
    {
     "ename": "NameError",
     "evalue": "name 'df' is not defined",
     "output_type": "error",
     "traceback": [
      "\u001b[1;31m---------------------------------------------------------------------------\u001b[0m",
      "\u001b[1;31mNameError\u001b[0m                                 Traceback (most recent call last)",
      "\u001b[1;32m<ipython-input-1-31bab7433ce2>\u001b[0m in \u001b[0;36m<module>\u001b[1;34m\u001b[0m\n\u001b[0;32m      1\u001b[0m \u001b[1;31m#Code to replace the missing neighbourhood group values\u001b[0m\u001b[1;33m\u001b[0m\u001b[1;33m\u001b[0m\u001b[1;33m\u001b[0m\u001b[0m\n\u001b[1;32m----> 2\u001b[1;33m \u001b[0mx\u001b[0m \u001b[1;33m=\u001b[0m \u001b[0mdf\u001b[0m\u001b[1;33m[\u001b[0m\u001b[1;34m'neighbourhood'\u001b[0m\u001b[1;33m]\u001b[0m\u001b[1;33m.\u001b[0m\u001b[0munique\u001b[0m\u001b[1;33m(\u001b[0m\u001b[1;33m)\u001b[0m\u001b[1;33m\u001b[0m\u001b[1;33m\u001b[0m\u001b[0m\n\u001b[0m\u001b[0;32m      3\u001b[0m \u001b[1;32mfor\u001b[0m \u001b[0mval\u001b[0m \u001b[1;32min\u001b[0m \u001b[0mx\u001b[0m\u001b[1;33m:\u001b[0m\u001b[1;33m\u001b[0m\u001b[1;33m\u001b[0m\u001b[0m\n\u001b[0;32m      4\u001b[0m     \u001b[0mi\u001b[0m \u001b[1;33m=\u001b[0m \u001b[0mstr\u001b[0m\u001b[1;33m(\u001b[0m\u001b[0mdf\u001b[0m\u001b[1;33m[\u001b[0m\u001b[0mdf\u001b[0m\u001b[1;33m[\u001b[0m\u001b[1;34m'neighbourhood'\u001b[0m\u001b[1;33m]\u001b[0m \u001b[1;33m==\u001b[0m \u001b[0mval\u001b[0m\u001b[1;33m]\u001b[0m\u001b[1;33m[\u001b[0m\u001b[1;34m'neighbourhood_group'\u001b[0m\u001b[1;33m]\u001b[0m\u001b[1;33m.\u001b[0m\u001b[0mvalue_counts\u001b[0m\u001b[1;33m(\u001b[0m\u001b[1;33m)\u001b[0m\u001b[1;33m)\u001b[0m\u001b[1;33m\u001b[0m\u001b[1;33m\u001b[0m\u001b[0m\n\u001b[0;32m      5\u001b[0m     \u001b[0mc\u001b[0m  \u001b[1;33m=\u001b[0m \u001b[0mre\u001b[0m\u001b[1;33m.\u001b[0m\u001b[0mmatch\u001b[0m\u001b[1;33m(\u001b[0m\u001b[1;34m'\\w+(?:-\\w+)+\\s.[a-z]*|.[a-z]*\\s.[a-z]*'\u001b[0m\u001b[1;33m,\u001b[0m\u001b[0mi\u001b[0m\u001b[1;33m)\u001b[0m\u001b[1;33m\u001b[0m\u001b[1;33m\u001b[0m\u001b[0m\n",
      "\u001b[1;31mNameError\u001b[0m: name 'df' is not defined"
     ]
    }
   ],
   "source": [
    "#Code to replace the missing neighbourhood group values\n",
    "x = df['neighbourhood'].unique()\n",
    "for val in x:\n",
    "    i = str(df[df['neighbourhood'] == val]['neighbourhood_group'].value_counts())\n",
    "    c  = re.match('\\w+(?:-\\w+)+\\s.[a-z]*|.[a-z]*\\s.[a-z]*',i)\n",
    "    cond = (df['neighbourhood'] == val) & (df['neighbourhood_group'].isnull())\n",
    "    df.loc[cond, 'neighbourhood_group'] = c[0]\n",
    "    "
   ]
  },
  {
   "cell_type": "code",
   "execution_count": 23,
   "metadata": {},
   "outputs": [
    {
     "data": {
      "text/plain": [
       "Central Region       6309\n",
       "West Region           540\n",
       "East Region           508\n",
       "North-East Region     346\n",
       "North Region          204\n",
       "Name: neighbourhood_group, dtype: int64"
      ]
     },
     "execution_count": 23,
     "metadata": {},
     "output_type": "execute_result"
    }
   ],
   "source": [
    "df['neighbourhood_group'].value_counts()"
   ]
  },
  {
   "cell_type": "code",
   "execution_count": 24,
   "metadata": {},
   "outputs": [
    {
     "data": {
      "text/plain": [
       "name                                44\n",
       "host_id                              0\n",
       "host_name                            0\n",
       "neighbourhood_group                  0\n",
       "neighbourhood                        0\n",
       "latitude                             0\n",
       "longitude                            0\n",
       "room_type                           17\n",
       "price                                0\n",
       "minimum_nights                      16\n",
       "number_of_reviews                    0\n",
       "last_review                       2758\n",
       "reviews_per_month                 2758\n",
       "calculated_host_listings_count       0\n",
       "availability_365                   386\n",
       "dtype: int64"
      ]
     },
     "execution_count": 24,
     "metadata": {},
     "output_type": "execute_result"
    }
   ],
   "source": [
    "#Neighbourhood Group column is cleaned\n",
    "df.apply(lambda x: sum(x.isnull()),axis=0)"
   ]
  },
  {
   "cell_type": "markdown",
   "metadata": {},
   "source": [
    "# Room Type Column"
   ]
  },
  {
   "cell_type": "code",
   "execution_count": 25,
   "metadata": {},
   "outputs": [
    {
     "data": {
      "text/plain": [
       "Entire home/apt    4126\n",
       "Private room       3368\n",
       "Shared room         392\n",
       "2                     1\n",
       "3                     1\n",
       "1                     1\n",
       "4                     1\n",
       "Name: room_type, dtype: int64"
      ]
     },
     "execution_count": 25,
     "metadata": {},
     "output_type": "execute_result"
    }
   ],
   "source": [
    "df['room_type'].value_counts()"
   ]
  },
  {
   "cell_type": "code",
   "execution_count": 26,
   "metadata": {},
   "outputs": [],
   "source": [
    "#There are data entry errors in Room type column. We dont know what this encoding means so we will drop these values as \n",
    "#they are small in number.\n",
    "df = df[~df['room_type'].isin(['1','2','3','4'])]"
   ]
  },
  {
   "cell_type": "code",
   "execution_count": 27,
   "metadata": {},
   "outputs": [
    {
     "data": {
      "text/plain": [
       "Entire home/apt    4126\n",
       "Private room       3368\n",
       "Shared room         392\n",
       "Name: room_type, dtype: int64"
      ]
     },
     "execution_count": 27,
     "metadata": {},
     "output_type": "execute_result"
    }
   ],
   "source": [
    "df['room_type'].value_counts()"
   ]
  },
  {
   "cell_type": "code",
   "execution_count": 28,
   "metadata": {},
   "outputs": [],
   "source": [
    "df = df.astype({\"room_type\":'category'}) "
   ]
  },
  {
   "cell_type": "code",
   "execution_count": 29,
   "metadata": {},
   "outputs": [
    {
     "name": "stdout",
     "output_type": "stream",
     "text": [
      "<class 'pandas.core.frame.DataFrame'>\n",
      "Int64Index: 7903 entries, 4 to 7906\n",
      "Data columns (total 15 columns):\n",
      " #   Column                          Non-Null Count  Dtype   \n",
      "---  ------                          --------------  -----   \n",
      " 0   name                            7859 non-null   object  \n",
      " 1   host_id                         7903 non-null   object  \n",
      " 2   host_name                       7903 non-null   object  \n",
      " 3   neighbourhood_group             7903 non-null   object  \n",
      " 4   neighbourhood                   7903 non-null   object  \n",
      " 5   latitude                        7903 non-null   float64 \n",
      " 6   longitude                       7903 non-null   float64 \n",
      " 7   room_type                       7886 non-null   category\n",
      " 8   price                           7903 non-null   int64   \n",
      " 9   minimum_nights                  7887 non-null   object  \n",
      " 10  number_of_reviews               7903 non-null   int64   \n",
      " 11  last_review                     5145 non-null   object  \n",
      " 12  reviews_per_month               5145 non-null   float64 \n",
      " 13  calculated_host_listings_count  7903 non-null   int64   \n",
      " 14  availability_365                7517 non-null   float64 \n",
      "dtypes: category(1), float64(4), int64(3), object(7)\n",
      "memory usage: 934.0+ KB\n"
     ]
    }
   ],
   "source": [
    "df.info()"
   ]
  },
  {
   "cell_type": "code",
   "execution_count": 30,
   "metadata": {},
   "outputs": [
    {
     "data": {
      "text/plain": [
       "name                                44\n",
       "host_id                              0\n",
       "host_name                            0\n",
       "neighbourhood_group                  0\n",
       "neighbourhood                        0\n",
       "latitude                             0\n",
       "longitude                            0\n",
       "room_type                           17\n",
       "price                                0\n",
       "minimum_nights                      16\n",
       "number_of_reviews                    0\n",
       "last_review                       2758\n",
       "reviews_per_month                 2758\n",
       "calculated_host_listings_count       0\n",
       "availability_365                   386\n",
       "dtype: int64"
      ]
     },
     "execution_count": 30,
     "metadata": {},
     "output_type": "execute_result"
    }
   ],
   "source": [
    "df.apply(lambda x: sum(x.isnull()),axis=0)"
   ]
  },
  {
   "cell_type": "code",
   "execution_count": 31,
   "metadata": {},
   "outputs": [
    {
     "data": {
      "text/plain": [
       "Central Region       6308\n",
       "West Region           540\n",
       "East Region           507\n",
       "North-East Region     346\n",
       "North Region          202\n",
       "Name: neighbourhood_group, dtype: int64"
      ]
     },
     "execution_count": 31,
     "metadata": {},
     "output_type": "execute_result"
    }
   ],
   "source": [
    "#There are some errors in the data entry that need to be removed\n",
    "df['neighbourhood_group'].value_counts()"
   ]
  },
  {
   "cell_type": "code",
   "execution_count": 32,
   "metadata": {},
   "outputs": [],
   "source": [
    "df = df.astype({\"neighbourhood_group\":'category', \"room_type\":'category'}) "
   ]
  },
  {
   "cell_type": "code",
   "execution_count": 33,
   "metadata": {},
   "outputs": [
    {
     "data": {
      "text/plain": [
       "neighbourhood_group  room_type      \n",
       "Central Region       Entire home/apt    3733\n",
       "                     Private room       2217\n",
       "                     Shared room         346\n",
       "East Region          Entire home/apt     130\n",
       "                     Private room        364\n",
       "                     Shared room          11\n",
       "North Region         Entire home/apt      53\n",
       "                     Private room        140\n",
       "                     Shared room           9\n",
       "North-East Region    Entire home/apt      64\n",
       "                     Private room        270\n",
       "                     Shared room          10\n",
       "West Region          Entire home/apt     146\n",
       "                     Private room        377\n",
       "                     Shared room          16\n",
       "dtype: int64"
      ]
     },
     "execution_count": 33,
     "metadata": {},
     "output_type": "execute_result"
    }
   ],
   "source": [
    "df.groupby(['neighbourhood_group', 'room_type']).size()"
   ]
  },
  {
   "cell_type": "code",
   "execution_count": 34,
   "metadata": {},
   "outputs": [
    {
     "data": {
      "text/plain": [
       "2252       Central Region\n",
       "2253    North-East Region\n",
       "2254          East Region\n",
       "2255       Central Region\n",
       "2256    North-East Region\n",
       "2257       Central Region\n",
       "2258       Central Region\n",
       "2259       Central Region\n",
       "7560       Central Region\n",
       "7561          West Region\n",
       "7562       Central Region\n",
       "7563       Central Region\n",
       "7564       Central Region\n",
       "7565       Central Region\n",
       "7566       Central Region\n",
       "7567       Central Region\n",
       "7568          East Region\n",
       "Name: neighbourhood_group, dtype: category\n",
       "Categories (5, object): [Central Region, East Region, North Region, North-East Region, West Region]"
      ]
     },
     "execution_count": 34,
     "metadata": {},
     "output_type": "execute_result"
    }
   ],
   "source": [
    "#We will cater the missing room type values based on the neighbourhood group of the records\n",
    "df[df[\"room_type\"].isnull()]['neighbourhood_group']"
   ]
  },
  {
   "cell_type": "code",
   "execution_count": 35,
   "metadata": {},
   "outputs": [],
   "source": [
    "#Where region is central - Entire home/apt\n",
    "#Where region is East - Private room\n",
    "#Where region is North - Private room\n",
    "#Where region is North-East - Private room\n",
    "#Where region is West - Private room"
   ]
  },
  {
   "cell_type": "code",
   "execution_count": 36,
   "metadata": {},
   "outputs": [],
   "source": [
    "#Where region is central - Entire home/apt\n",
    "c1 = (df['neighbourhood_group'] == 'Central Region') & (df['room_type'].isnull())\n",
    "df.loc[c1, 'room_type'] = 'Entire home/apt'\n",
    "\n",
    "#Where region is East - Private room\n",
    "c2 = (df['neighbourhood_group'] == 'East Region') & (df['room_type'].isnull())\n",
    "df.loc[c2, 'room_type'] = 'Private room'\n",
    "\n",
    "#Where region is North - Private room\n",
    "c3 = (df['neighbourhood_group'] == 'North Region') & (df['room_type'].isnull())\n",
    "df.loc[c3, 'room_type'] = 'Private room'\n",
    "\n",
    "#Where region is North-East - Private room\n",
    "c4 = (df['neighbourhood_group'] == 'North-East Region') & (df['room_type'].isnull())\n",
    "df.loc[c4, 'room_type'] = 'Private room'\n",
    "\n",
    "#Where region is West - Private room\n",
    "c5 = (df['neighbourhood_group'] == 'West Region') & (df['room_type'].isnull())\n",
    "df.loc[c5, 'room_type'] = 'Private room'\n"
   ]
  },
  {
   "cell_type": "code",
   "execution_count": 37,
   "metadata": {},
   "outputs": [
    {
     "data": {
      "text/plain": [
       "name                                44\n",
       "host_id                              0\n",
       "host_name                            0\n",
       "neighbourhood_group                  0\n",
       "neighbourhood                        0\n",
       "latitude                             0\n",
       "longitude                            0\n",
       "room_type                            0\n",
       "price                                0\n",
       "minimum_nights                      16\n",
       "number_of_reviews                    0\n",
       "last_review                       2758\n",
       "reviews_per_month                 2758\n",
       "calculated_host_listings_count       0\n",
       "availability_365                   386\n",
       "dtype: int64"
      ]
     },
     "execution_count": 37,
     "metadata": {},
     "output_type": "execute_result"
    }
   ],
   "source": [
    "df.apply(lambda x: sum(x.isnull()),axis=0)"
   ]
  },
  {
   "cell_type": "markdown",
   "metadata": {},
   "source": [
    "# Minimum Nights"
   ]
  },
  {
   "cell_type": "code",
   "execution_count": 38,
   "metadata": {},
   "outputs": [],
   "source": [
    "df['minimum_nights'] = pd.to_numeric(df['minimum_nights'], errors='coerce') # Replace incorrect values with NaT"
   ]
  },
  {
   "cell_type": "code",
   "execution_count": 39,
   "metadata": {},
   "outputs": [
    {
     "data": {
      "text/plain": [
       "False    7884\n",
       "True       19\n",
       "Name: minimum_nights, dtype: int64"
      ]
     },
     "execution_count": 39,
     "metadata": {},
     "output_type": "execute_result"
    }
   ],
   "source": [
    "df['minimum_nights'].isnull().value_counts()"
   ]
  },
  {
   "cell_type": "code",
   "execution_count": 40,
   "metadata": {},
   "outputs": [
    {
     "data": {
      "text/plain": [
       "19"
      ]
     },
     "execution_count": 40,
     "metadata": {},
     "output_type": "execute_result"
    }
   ],
   "source": [
    "pd.isnull(df['minimum_nights']).sum()"
   ]
  },
  {
   "cell_type": "code",
   "execution_count": 41,
   "metadata": {},
   "outputs": [],
   "source": [
    "df['minimum_nights'].fillna(0, inplace=True)"
   ]
  },
  {
   "cell_type": "code",
   "execution_count": 42,
   "metadata": {},
   "outputs": [
    {
     "data": {
      "text/plain": [
       "name                                44\n",
       "host_id                              0\n",
       "host_name                            0\n",
       "neighbourhood_group                  0\n",
       "neighbourhood                        0\n",
       "latitude                             0\n",
       "longitude                            0\n",
       "room_type                            0\n",
       "price                                0\n",
       "minimum_nights                       0\n",
       "number_of_reviews                    0\n",
       "last_review                       2758\n",
       "reviews_per_month                 2758\n",
       "calculated_host_listings_count       0\n",
       "availability_365                   386\n",
       "dtype: int64"
      ]
     },
     "execution_count": 42,
     "metadata": {},
     "output_type": "execute_result"
    }
   ],
   "source": [
    "df.apply(lambda x: sum(x.isnull()),axis=0)"
   ]
  },
  {
   "cell_type": "code",
   "execution_count": 43,
   "metadata": {},
   "outputs": [
    {
     "data": {
      "text/plain": [
       "array(['B&B  Room 1 near Airport & EXPO', 'Room 2-near Airport & EXPO',\n",
       "       '3rd level Jumbo room 5 near EXPO', ...,\n",
       "       '[ Farrer Park ] New City Fringe CBD Mins to MRT',\n",
       "       'Cheap Master Room in Central of Singapore',\n",
       "       'Amazing room with private bathroom walk to Orchard'], dtype=object)"
      ]
     },
     "execution_count": 43,
     "metadata": {},
     "output_type": "execute_result"
    }
   ],
   "source": [
    "df['name'].unique()"
   ]
  },
  {
   "cell_type": "code",
   "execution_count": 44,
   "metadata": {},
   "outputs": [],
   "source": [
    "#It is impossible to cater null name values. So we will drop them"
   ]
  },
  {
   "cell_type": "code",
   "execution_count": 45,
   "metadata": {},
   "outputs": [],
   "source": [
    "df = df.dropna(subset=['name'])"
   ]
  },
  {
   "cell_type": "code",
   "execution_count": 46,
   "metadata": {},
   "outputs": [
    {
     "data": {
      "text/plain": [
       "name                                 0\n",
       "host_id                              0\n",
       "host_name                            0\n",
       "neighbourhood_group                  0\n",
       "neighbourhood                        0\n",
       "latitude                             0\n",
       "longitude                            0\n",
       "room_type                            0\n",
       "price                                0\n",
       "minimum_nights                       0\n",
       "number_of_reviews                    0\n",
       "last_review                       2740\n",
       "reviews_per_month                 2740\n",
       "calculated_host_listings_count       0\n",
       "availability_365                   386\n",
       "dtype: int64"
      ]
     },
     "execution_count": 46,
     "metadata": {},
     "output_type": "execute_result"
    }
   ],
   "source": [
    "df.isnull().sum()"
   ]
  },
  {
   "cell_type": "code",
   "execution_count": 47,
   "metadata": {},
   "outputs": [],
   "source": [
    "df = df[~df['room_type'].isin(['1','666'])]"
   ]
  },
  {
   "cell_type": "code",
   "execution_count": 48,
   "metadata": {},
   "outputs": [],
   "source": [
    "df['host_id'] = pd.to_numeric(df['host_id'], errors='coerce') # Replace incorrect values with NaT"
   ]
  },
  {
   "cell_type": "code",
   "execution_count": 49,
   "metadata": {},
   "outputs": [
    {
     "data": {
      "text/plain": [
       "name                                 0\n",
       "host_id                              0\n",
       "host_name                            0\n",
       "neighbourhood_group                  0\n",
       "neighbourhood                        0\n",
       "latitude                             0\n",
       "longitude                            0\n",
       "room_type                            0\n",
       "price                                0\n",
       "minimum_nights                       0\n",
       "number_of_reviews                    0\n",
       "last_review                       2740\n",
       "reviews_per_month                 2740\n",
       "calculated_host_listings_count       0\n",
       "availability_365                   386\n",
       "dtype: int64"
      ]
     },
     "execution_count": 49,
     "metadata": {},
     "output_type": "execute_result"
    }
   ],
   "source": [
    "df = df.dropna(subset=['host_id'])\n",
    "df.isnull().sum()"
   ]
  },
  {
   "cell_type": "code",
   "execution_count": 50,
   "metadata": {},
   "outputs": [
    {
     "name": "stdout",
     "output_type": "stream",
     "text": [
      "<class 'pandas.core.frame.DataFrame'>\n",
      "Int64Index: 7857 entries, 4 to 7906\n",
      "Data columns (total 15 columns):\n",
      " #   Column                          Non-Null Count  Dtype   \n",
      "---  ------                          --------------  -----   \n",
      " 0   name                            7857 non-null   object  \n",
      " 1   host_id                         7857 non-null   float64 \n",
      " 2   host_name                       7857 non-null   object  \n",
      " 3   neighbourhood_group             7857 non-null   category\n",
      " 4   neighbourhood                   7857 non-null   object  \n",
      " 5   latitude                        7857 non-null   float64 \n",
      " 6   longitude                       7857 non-null   float64 \n",
      " 7   room_type                       7857 non-null   category\n",
      " 8   price                           7857 non-null   int64   \n",
      " 9   minimum_nights                  7857 non-null   float64 \n",
      " 10  number_of_reviews               7857 non-null   int64   \n",
      " 11  last_review                     5117 non-null   object  \n",
      " 12  reviews_per_month               5117 non-null   float64 \n",
      " 13  calculated_host_listings_count  7857 non-null   int64   \n",
      " 14  availability_365                7471 non-null   float64 \n",
      "dtypes: category(2), float64(6), int64(3), object(4)\n",
      "memory usage: 875.0+ KB\n"
     ]
    }
   ],
   "source": [
    "df.info()"
   ]
  },
  {
   "cell_type": "code",
   "execution_count": 51,
   "metadata": {},
   "outputs": [],
   "source": [
    "#So far we have cleaned - \n",
    "#ID; HOST_ID; NEIGHBOURHOOD_GROUP; NEIGHBOURHOOD; ROOM_TYPE; MINIMUM_NIGHTS"
   ]
  },
  {
   "cell_type": "markdown",
   "metadata": {},
   "source": [
    "# Host Name"
   ]
  },
  {
   "cell_type": "code",
   "execution_count": 52,
   "metadata": {},
   "outputs": [],
   "source": [
    "#- Step 1- It is a string variable. It should not contain numeric values \n",
    "def eliminate_numeric_values(item):\n",
    "    if isinstance(item, str):\n",
    "        return item if not re.match(r\"^[0-9]+$\", item) else pd.NaT\n",
    "    else:\n",
    "        return pd.NaT"
   ]
  },
  {
   "cell_type": "code",
   "execution_count": 53,
   "metadata": {},
   "outputs": [],
   "source": [
    "df['host_name'] = df['host_name'].map(eliminate_numeric_values)"
   ]
  },
  {
   "cell_type": "code",
   "execution_count": 54,
   "metadata": {},
   "outputs": [],
   "source": [
    "df = df.dropna(subset =['host_name'])"
   ]
  },
  {
   "cell_type": "code",
   "execution_count": 55,
   "metadata": {},
   "outputs": [],
   "source": [
    "#Step 1 \n",
    "df['host_name'] = df['host_name'].str.strip()\n",
    "df['host_name'] = df['host_name'].replace(' ','')\n",
    "df['host_name'] = df['host_name'].replace(\"' \",'')\n",
    "df['host_name'] = df['host_name'].replace(\"'\",'')\n",
    "#This will do a basic clean up to manage spaces"
   ]
  },
  {
   "cell_type": "code",
   "execution_count": 56,
   "metadata": {},
   "outputs": [],
   "source": [
    "#Function that checks whether the entry contains English Alphabets\n",
    "def isEnglish(s):\n",
    "    try:\n",
    "        s.encode(encoding='utf-8').decode('ascii')\n",
    "    except UnicodeDecodeError:\n",
    "        return False\n",
    "    else:\n",
    "        return True"
   ]
  },
  {
   "cell_type": "code",
   "execution_count": 57,
   "metadata": {},
   "outputs": [],
   "source": [
    "#Function that removes Non-Ascii Characters\n",
    "def remove_non_ascii_1(text):\n",
    "    return ''.join([i if ord(i) < 128 else '' for i in text])"
   ]
  },
  {
   "cell_type": "code",
   "execution_count": 58,
   "metadata": {},
   "outputs": [],
   "source": [
    "#Cleaning the Host Name Column\n",
    "my_list = df['host_name']\n",
    "counter = 0\n",
    "for var in my_list:\n",
    "    #print(var)\n",
    "    if isEnglish(var):\n",
    "        continue\n",
    "    else:\n",
    "        val = remove_non_ascii_1(var)\n",
    "        #print(val)\n",
    "        counter = counter + 1\n",
    "        my_list.replace(var,val)\n",
    "\n",
    "        #Replacing all the empty strings with 0 to find accurately the total values changes\n"
   ]
  },
  {
   "cell_type": "code",
   "execution_count": 59,
   "metadata": {},
   "outputs": [],
   "source": [
    "df['host_name'] = my_list"
   ]
  },
  {
   "cell_type": "code",
   "execution_count": 60,
   "metadata": {},
   "outputs": [],
   "source": [
    "df['host_name'].fillna(value=0,inplace=True)"
   ]
  },
  {
   "cell_type": "markdown",
   "metadata": {},
   "source": [
    "# Name Column"
   ]
  },
  {
   "cell_type": "code",
   "execution_count": 61,
   "metadata": {},
   "outputs": [],
   "source": [
    "df['name'] = df['name'].map(eliminate_numeric_values)"
   ]
  },
  {
   "cell_type": "code",
   "execution_count": 62,
   "metadata": {},
   "outputs": [],
   "source": [
    "#Step 1 \n",
    "df['name'] = df['name'].str.strip()\n",
    "df['name'] = df['name'].replace(' ','')\n",
    "df['name'] = df['name'].replace(\"' \",'')\n",
    "df['name'] = df['name'].replace(\"'\",'')\n",
    "#This will do a basic clean up to manage spaces"
   ]
  },
  {
   "cell_type": "code",
   "execution_count": 63,
   "metadata": {},
   "outputs": [],
   "source": [
    "df['name'] = df['name'].str.encode('ascii', 'ignore').str.decode('ascii')"
   ]
  },
  {
   "cell_type": "code",
   "execution_count": 64,
   "metadata": {},
   "outputs": [
    {
     "ename": "AttributeError",
     "evalue": "'NaTType' object has no attribute 'encode'",
     "output_type": "error",
     "traceback": [
      "\u001b[1;31m---------------------------------------------------------------------------\u001b[0m",
      "\u001b[1;31mAttributeError\u001b[0m                            Traceback (most recent call last)",
      "\u001b[1;32m<ipython-input-64-96ccfbe311e6>\u001b[0m in \u001b[0;36m<module>\u001b[1;34m\u001b[0m\n\u001b[0;32m      4\u001b[0m \u001b[1;32mfor\u001b[0m \u001b[0mvar\u001b[0m \u001b[1;32min\u001b[0m \u001b[0mlist_2\u001b[0m\u001b[1;33m:\u001b[0m\u001b[1;33m\u001b[0m\u001b[1;33m\u001b[0m\u001b[0m\n\u001b[0;32m      5\u001b[0m     \u001b[1;31m#print(var)\u001b[0m\u001b[1;33m\u001b[0m\u001b[1;33m\u001b[0m\u001b[1;33m\u001b[0m\u001b[0m\n\u001b[1;32m----> 6\u001b[1;33m     \u001b[1;32mif\u001b[0m \u001b[0misEnglish\u001b[0m\u001b[1;33m(\u001b[0m\u001b[0mvar\u001b[0m\u001b[1;33m)\u001b[0m\u001b[1;33m:\u001b[0m\u001b[1;33m\u001b[0m\u001b[1;33m\u001b[0m\u001b[0m\n\u001b[0m\u001b[0;32m      7\u001b[0m         \u001b[1;32mcontinue\u001b[0m\u001b[1;33m\u001b[0m\u001b[1;33m\u001b[0m\u001b[0m\n\u001b[0;32m      8\u001b[0m     \u001b[1;32melse\u001b[0m\u001b[1;33m:\u001b[0m\u001b[1;33m\u001b[0m\u001b[1;33m\u001b[0m\u001b[0m\n",
      "\u001b[1;32m<ipython-input-56-1962dfc97554>\u001b[0m in \u001b[0;36misEnglish\u001b[1;34m(s)\u001b[0m\n\u001b[0;32m      2\u001b[0m \u001b[1;32mdef\u001b[0m \u001b[0misEnglish\u001b[0m\u001b[1;33m(\u001b[0m\u001b[0ms\u001b[0m\u001b[1;33m)\u001b[0m\u001b[1;33m:\u001b[0m\u001b[1;33m\u001b[0m\u001b[1;33m\u001b[0m\u001b[0m\n\u001b[0;32m      3\u001b[0m     \u001b[1;32mtry\u001b[0m\u001b[1;33m:\u001b[0m\u001b[1;33m\u001b[0m\u001b[1;33m\u001b[0m\u001b[0m\n\u001b[1;32m----> 4\u001b[1;33m         \u001b[0ms\u001b[0m\u001b[1;33m.\u001b[0m\u001b[0mencode\u001b[0m\u001b[1;33m(\u001b[0m\u001b[0mencoding\u001b[0m\u001b[1;33m=\u001b[0m\u001b[1;34m'utf-8'\u001b[0m\u001b[1;33m)\u001b[0m\u001b[1;33m.\u001b[0m\u001b[0mdecode\u001b[0m\u001b[1;33m(\u001b[0m\u001b[1;34m'ascii'\u001b[0m\u001b[1;33m)\u001b[0m\u001b[1;33m\u001b[0m\u001b[1;33m\u001b[0m\u001b[0m\n\u001b[0m\u001b[0;32m      5\u001b[0m     \u001b[1;32mexcept\u001b[0m \u001b[0mUnicodeDecodeError\u001b[0m\u001b[1;33m:\u001b[0m\u001b[1;33m\u001b[0m\u001b[1;33m\u001b[0m\u001b[0m\n\u001b[0;32m      6\u001b[0m         \u001b[1;32mreturn\u001b[0m \u001b[1;32mFalse\u001b[0m\u001b[1;33m\u001b[0m\u001b[1;33m\u001b[0m\u001b[0m\n",
      "\u001b[1;31mAttributeError\u001b[0m: 'NaTType' object has no attribute 'encode'"
     ]
    }
   ],
   "source": [
    "#Cleaning the Host Name Column\n",
    "list_2 = df['name']\n",
    "counter = 0\n",
    "for var in list_2:\n",
    "    #print(var)\n",
    "    if isEnglish(var):\n",
    "        continue\n",
    "    else:\n",
    "        val = remove_non_ascii_1(var)\n",
    "        #print(val)\n",
    "        counter = counter + 1\n",
    "        list_2.replace(var,val)\n"
   ]
  },
  {
   "cell_type": "code",
   "execution_count": null,
   "metadata": {},
   "outputs": [],
   "source": [
    "list_2"
   ]
  },
  {
   "cell_type": "code",
   "execution_count": 65,
   "metadata": {},
   "outputs": [],
   "source": [
    "df['name'] = list_2"
   ]
  },
  {
   "cell_type": "code",
   "execution_count": 66,
   "metadata": {},
   "outputs": [
    {
     "data": {
      "text/plain": [
       "2"
      ]
     },
     "execution_count": 66,
     "metadata": {},
     "output_type": "execute_result"
    }
   ],
   "source": [
    "df['name'].isnull().sum()"
   ]
  },
  {
   "cell_type": "code",
   "execution_count": 67,
   "metadata": {},
   "outputs": [
    {
     "data": {
      "text/plain": [
       "name                                 2\n",
       "host_id                              0\n",
       "host_name                            0\n",
       "neighbourhood_group                  0\n",
       "neighbourhood                        0\n",
       "latitude                             0\n",
       "longitude                            0\n",
       "room_type                            0\n",
       "price                                0\n",
       "minimum_nights                       0\n",
       "number_of_reviews                    0\n",
       "last_review                       2740\n",
       "reviews_per_month                 2740\n",
       "calculated_host_listings_count       0\n",
       "availability_365                   386\n",
       "dtype: int64"
      ]
     },
     "execution_count": 67,
     "metadata": {},
     "output_type": "execute_result"
    }
   ],
   "source": [
    "df.isnull().sum()"
   ]
  },
  {
   "cell_type": "markdown",
   "metadata": {},
   "source": [
    "# Last Review"
   ]
  },
  {
   "cell_type": "code",
   "execution_count": 68,
   "metadata": {},
   "outputs": [
    {
     "name": "stdout",
     "output_type": "stream",
     "text": [
      "Affected Order date records=0\n"
     ]
    }
   ],
   "source": [
    "#Last Review\n",
    "# Lets see how many rows will be affected if we replace incorrect values with NaT\n",
    "affected_date_records = pd.to_datetime(df['last_review'], errors='coerce').isnull().sum() - df['last_review'].isnull().sum()\n",
    "print(\"Affected Order date records=%d\" % affected_date_records)"
   ]
  },
  {
   "cell_type": "code",
   "execution_count": 69,
   "metadata": {},
   "outputs": [],
   "source": [
    "df['last_review'] = pd.to_datetime(df['last_review'], errors='coerce') # Replace incorrect values with NaT"
   ]
  },
  {
   "cell_type": "code",
   "execution_count": 70,
   "metadata": {},
   "outputs": [
    {
     "data": {
      "text/plain": [
       "name                                 2\n",
       "host_id                              0\n",
       "host_name                            0\n",
       "neighbourhood_group                  0\n",
       "neighbourhood                        0\n",
       "latitude                             0\n",
       "longitude                            0\n",
       "room_type                            0\n",
       "price                                0\n",
       "minimum_nights                       0\n",
       "number_of_reviews                    0\n",
       "last_review                       2740\n",
       "reviews_per_month                 2740\n",
       "calculated_host_listings_count       0\n",
       "availability_365                   386\n",
       "dtype: int64"
      ]
     },
     "execution_count": 70,
     "metadata": {},
     "output_type": "execute_result"
    }
   ],
   "source": [
    "df.isnull().sum()"
   ]
  },
  {
   "cell_type": "code",
   "execution_count": 71,
   "metadata": {},
   "outputs": [
    {
     "data": {
      "text/plain": [
       "<matplotlib.axes._subplots.AxesSubplot at 0x1ed34944700>"
      ]
     },
     "execution_count": 71,
     "metadata": {},
     "output_type": "execute_result"
    },
    {
     "data": {
      "image/png": "[encoded data removed]",
      "text/plain": [
       "<Figure size 432x288 with 1 Axes>"
      ]
     },
     "metadata": {
      "needs_background": "light"
     },
     "output_type": "display_data"
    }
   ],
   "source": [
    "review_date = df['last_review'].apply(lambda x: x.year)\n",
    "review_date.hist()"
   ]
  },
  {
   "cell_type": "code",
   "execution_count": 72,
   "metadata": {},
   "outputs": [
    {
     "data": {
      "text/plain": [
       "<matplotlib.axes._subplots.AxesSubplot at 0x1ed34af3580>"
      ]
     },
     "execution_count": 72,
     "metadata": {},
     "output_type": "execute_result"
    },
    {
     "data": {
      "image/png": "[encoded data removed]",
      "text/plain": [
       "<Figure size 432x288 with 1 Axes>"
      ]
     },
     "metadata": {
      "needs_background": "light"
     },
     "output_type": "display_data"
    }
   ],
   "source": [
    "review_date_day = df['last_review'].apply(lambda x: x.day)\n",
    "review_date_day.hist(bins=50)"
   ]
  },
  {
   "cell_type": "code",
   "execution_count": 73,
   "metadata": {},
   "outputs": [
    {
     "data": {
      "text/plain": [
       "<matplotlib.axes._subplots.AxesSubplot at 0x1ed35284f40>"
      ]
     },
     "execution_count": 73,
     "metadata": {},
     "output_type": "execute_result"
    },
    {
     "data": {
      "image/png": "[encoded data removed]",
      "text/plain": [
       "<Figure size 432x288 with 1 Axes>"
      ]
     },
     "metadata": {
      "needs_background": "light"
     },
     "output_type": "display_data"
    }
   ],
   "source": [
    "review_date_month = df['last_review'].apply(lambda x: x.month)\n",
    "review_date_month.hist()"
   ]
  },
  {
   "cell_type": "code",
   "execution_count": 74,
   "metadata": {},
   "outputs": [
    {
     "data": {
      "image/png": "[encoded data removed]",
      "text/plain": [
       "<Figure size 432x288 with 1 Axes>"
      ]
     },
     "metadata": {
      "needs_background": "light"
     },
     "output_type": "display_data"
    }
   ],
   "source": [
    "df['last_review_year'] = df['last_review'].apply(lambda x: x.year)\n",
    "df.boxplot(column='last_review_year', sym='o', return_type='axes')\n",
    "df = df.drop('last_review_year', axis=1)\n",
    "#NO OUTLIERS IN THE DATE"
   ]
  },
  {
   "cell_type": "code",
   "execution_count": 75,
   "metadata": {},
   "outputs": [
    {
     "data": {
      "text/plain": [
       "name                                 2\n",
       "host_id                              0\n",
       "host_name                            0\n",
       "neighbourhood_group                  0\n",
       "neighbourhood                        0\n",
       "latitude                             0\n",
       "longitude                            0\n",
       "room_type                            0\n",
       "price                                0\n",
       "minimum_nights                       0\n",
       "number_of_reviews                    0\n",
       "last_review                          0\n",
       "reviews_per_month                 2740\n",
       "calculated_host_listings_count       0\n",
       "availability_365                   386\n",
       "dtype: int64"
      ]
     },
     "execution_count": 75,
     "metadata": {},
     "output_type": "execute_result"
    }
   ],
   "source": [
    "#The only reasonable substitute for missing last review values is to use mode (most occuring value)\n",
    "#df['last_review'] = pd.to_datetime(df['last_review']).dt.date\n",
    "#val = df.last_review.mode()\n",
    "#df['last_review']=pd.to_datetime(df['last_review'].fillna(val\n",
    "df['last_review'].fillna(df['last_review'].mode()[0], inplace=True)                                                          \n",
    "df.isnull().sum()"
   ]
  },
  {
   "cell_type": "markdown",
   "metadata": {},
   "source": [
    "# Reviews Per Month"
   ]
  },
  {
   "cell_type": "code",
   "execution_count": 76,
   "metadata": {},
   "outputs": [
    {
     "name": "stdout",
     "output_type": "stream",
     "text": [
      "Geylang                    344\n",
      "Kallang                    343\n",
      "Novena                     224\n",
      "Bukit Merah                201\n",
      "Rochor                     173\n",
      "Downtown Core              145\n",
      "Outram                     132\n",
      "Queenstown                 115\n",
      "Bedok                      114\n",
      "River Valley                98\n",
      "Tanglin                     76\n",
      "Singapore River             64\n",
      "Jurong East                 47\n",
      "Jurong West                 47\n",
      "Clementi                    46\n",
      "Bukit Timah                 41\n",
      "Newton                      41\n",
      "Toa Payoh                   39\n",
      "Marine Parade               37\n",
      "Ang Mo Kio                  35\n",
      "Hougang                     34\n",
      "Orchard                     34\n",
      "Pasir Ris                   31\n",
      "Bukit Batok                 27\n",
      "Sengkang                    27\n",
      "Woodlands                   26\n",
      "Central Water Catchment     23\n",
      "Bishan                      23\n",
      "Choa Chu Kang               22\n",
      "Yishun                      22\n",
      "Sembawang                   22\n",
      "Serangoon                   17\n",
      "Punggol                     17\n",
      "Tampines                    17\n",
      "Bukit Panjang               12\n",
      "Museum                      11\n",
      "Southern Islands            10\n",
      "Sungei Kadut                 2\n",
      "Lim Chu Kang                 1\n",
      "Name: neighbourhood, dtype: int64\n"
     ]
    }
   ],
   "source": [
    "print(df[df['reviews_per_month'].isnull()]['neighbourhood'].value_counts())"
   ]
  },
  {
   "cell_type": "code",
   "execution_count": 77,
   "metadata": {},
   "outputs": [],
   "source": [
    "#One approach is to find the average reviews per month with respect to neighbourhood and replace null values with average"
   ]
  },
  {
   "cell_type": "code",
   "execution_count": 78,
   "metadata": {},
   "outputs": [],
   "source": [
    "df['reviews_per_month'] = df['reviews_per_month'].fillna(df.groupby('neighbourhood')['reviews_per_month'].transform('mean'))\n"
   ]
  },
  {
   "cell_type": "code",
   "execution_count": 79,
   "metadata": {},
   "outputs": [
    {
     "data": {
      "text/plain": [
       "name                                2\n",
       "host_id                             0\n",
       "host_name                           0\n",
       "neighbourhood_group                 0\n",
       "neighbourhood                       0\n",
       "latitude                            0\n",
       "longitude                           0\n",
       "room_type                           0\n",
       "price                               0\n",
       "minimum_nights                      0\n",
       "number_of_reviews                   0\n",
       "last_review                         0\n",
       "reviews_per_month                   1\n",
       "calculated_host_listings_count      0\n",
       "availability_365                  386\n",
       "dtype: int64"
      ]
     },
     "execution_count": 79,
     "metadata": {},
     "output_type": "execute_result"
    }
   ],
   "source": [
    "df.isnull().sum()"
   ]
  },
  {
   "cell_type": "code",
   "execution_count": 80,
   "metadata": {},
   "outputs": [],
   "source": [
    "df.dropna(subset = ['reviews_per_month'], inplace = True)"
   ]
  },
  {
   "cell_type": "code",
   "execution_count": 81,
   "metadata": {},
   "outputs": [
    {
     "data": {
      "text/plain": [
       "name                                2\n",
       "host_id                             0\n",
       "host_name                           0\n",
       "neighbourhood_group                 0\n",
       "neighbourhood                       0\n",
       "latitude                            0\n",
       "longitude                           0\n",
       "room_type                           0\n",
       "price                               0\n",
       "minimum_nights                      0\n",
       "number_of_reviews                   0\n",
       "last_review                         0\n",
       "reviews_per_month                   0\n",
       "calculated_host_listings_count      0\n",
       "availability_365                  386\n",
       "dtype: int64"
      ]
     },
     "execution_count": 81,
     "metadata": {},
     "output_type": "execute_result"
    }
   ],
   "source": [
    "df.isnull().sum()"
   ]
  },
  {
   "cell_type": "code",
   "execution_count": 82,
   "metadata": {},
   "outputs": [
    {
     "data": {
      "text/plain": [
       "neighbourhood_group\n",
       "Central Region       216.747788\n",
       "East Region          177.771855\n",
       "North Region         209.445026\n",
       "North-East Region    168.764706\n",
       "West Region          188.258586\n",
       "Name: availability_365, dtype: float64"
      ]
     },
     "execution_count": 82,
     "metadata": {},
     "output_type": "execute_result"
    }
   ],
   "source": [
    "df.groupby('neighbourhood_group')['availability_365'].mean()"
   ]
  },
  {
   "cell_type": "code",
   "execution_count": 83,
   "metadata": {},
   "outputs": [
    {
     "data": {
      "text/plain": [
       "neighbourhood\n",
       "Ang Mo Kio                 169.018519\n",
       "Bedok                      184.778107\n",
       "Bishan                     179.763636\n",
       "Bukit Batok                180.666667\n",
       "Bukit Merah                212.216401\n",
       "Bukit Panjang              142.848485\n",
       "Bukit Timah                158.564516\n",
       "Central Water Catchment    190.529412\n",
       "Choa Chu Kang              141.233333\n",
       "Clementi                   200.978723\n",
       "Downtown Core              213.786070\n",
       "Geylang                    196.721294\n",
       "Hougang                    187.707547\n",
       "Jurong East                212.579439\n",
       "Jurong West                195.759398\n",
       "Kallang                    243.817554\n",
       "Mandai                     329.500000\n",
       "Marina South                 0.000000\n",
       "Marine Parade              132.887417\n",
       "Museum                     227.616667\n",
       "Newton                     227.349206\n",
       "Novena                     234.107280\n",
       "Orchard                    267.327273\n",
       "Outram                     225.603037\n",
       "Pasir Ris                  153.845070\n",
       "Punggol                    156.578947\n",
       "Queenstown                 204.949219\n",
       "River Valley               230.905605\n",
       "Rochor                     217.173228\n",
       "Sembawang                  223.921053\n",
       "Sengkang                   161.650794\n",
       "Serangoon                  150.854839\n",
       "Singapore River            261.385621\n",
       "Southern Islands           197.411765\n",
       "Sungei Kadut               346.200000\n",
       "Tampines                   166.616667\n",
       "Tanglin                    184.005025\n",
       "Toa Payoh                  158.093750\n",
       "Tuas                        89.000000\n",
       "Western Water Catchment    213.750000\n",
       "Woodlands                  177.967213\n",
       "Yishun                     230.803922\n",
       "Name: availability_365, dtype: float64"
      ]
     },
     "execution_count": 83,
     "metadata": {},
     "output_type": "execute_result"
    }
   ],
   "source": [
    "df.groupby('neighbourhood')['availability_365'].mean()"
   ]
  },
  {
   "cell_type": "code",
   "execution_count": 84,
   "metadata": {},
   "outputs": [
    {
     "data": {
      "text/plain": [
       "neighbourhood_group  neighbourhood          \n",
       "Central Region       Ang Mo Kio                        NaN\n",
       "                     Bedok                             NaN\n",
       "                     Bishan                     179.763636\n",
       "                     Bukit Batok                       NaN\n",
       "                     Bukit Merah                212.216401\n",
       "                                                   ...    \n",
       "West Region          Toa Payoh                         NaN\n",
       "                     Tuas                        89.000000\n",
       "                     Western Water Catchment    213.750000\n",
       "                     Woodlands                         NaN\n",
       "                     Yishun                            NaN\n",
       "Name: availability_365, Length: 210, dtype: float64"
      ]
     },
     "execution_count": 84,
     "metadata": {},
     "output_type": "execute_result"
    }
   ],
   "source": [
    "df.groupby(['neighbourhood_group', 'neighbourhood'])['availability_365'].mean()"
   ]
  },
  {
   "cell_type": "code",
   "execution_count": 85,
   "metadata": {},
   "outputs": [],
   "source": [
    "#In availability_365 case we will consider neighbourhood_group for aggregate average as their are less categories in the column\n",
    "#Hence it is easier to generalize rather than identifying patterns for each neighbourhood"
   ]
  },
  {
   "cell_type": "code",
   "execution_count": 86,
   "metadata": {},
   "outputs": [],
   "source": [
    "df['availability_365'] = df['availability_365'].fillna(df.groupby('neighbourhood_group')['availability_365'].transform('mean'))"
   ]
  },
  {
   "cell_type": "code",
   "execution_count": 87,
   "metadata": {},
   "outputs": [],
   "source": [
    "df['availability_365'] = df['availability_365'].apply(np.ceil)\n",
    "df['availability_365'] = df['availability_365'].astype(int)"
   ]
  },
  {
   "cell_type": "code",
   "execution_count": 88,
   "metadata": {},
   "outputs": [
    {
     "data": {
      "text/plain": [
       "name                              2\n",
       "host_id                           0\n",
       "host_name                         0\n",
       "neighbourhood_group               0\n",
       "neighbourhood                     0\n",
       "latitude                          0\n",
       "longitude                         0\n",
       "room_type                         0\n",
       "price                             0\n",
       "minimum_nights                    0\n",
       "number_of_reviews                 0\n",
       "last_review                       0\n",
       "reviews_per_month                 0\n",
       "calculated_host_listings_count    0\n",
       "availability_365                  0\n",
       "dtype: int64"
      ]
     },
     "execution_count": 88,
     "metadata": {},
     "output_type": "execute_result"
    }
   ],
   "source": [
    "df.isnull().sum()"
   ]
  },
  {
   "cell_type": "code",
   "execution_count": 89,
   "metadata": {},
   "outputs": [],
   "source": [
    "#Remove negative values in price column\n",
    "df = df[~df['price'] < 0]"
   ]
  },
  {
   "cell_type": "code",
   "execution_count": 90,
   "metadata": {},
   "outputs": [],
   "source": [
    "df['Total_Amount_Paid'] = df.price * df.minimum_nights"
   ]
  },
  {
   "cell_type": "code",
   "execution_count": 91,
   "metadata": {},
   "outputs": [
    {
     "data": {
      "text/plain": [
       "name                                      object\n",
       "host_id                                  float64\n",
       "host_name                                 object\n",
       "neighbourhood_group                     category\n",
       "neighbourhood                             object\n",
       "latitude                                 float64\n",
       "longitude                                float64\n",
       "room_type                               category\n",
       "price                                      int64\n",
       "minimum_nights                           float64\n",
       "number_of_reviews                          int64\n",
       "last_review                       datetime64[ns]\n",
       "reviews_per_month                        float64\n",
       "calculated_host_listings_count             int64\n",
       "availability_365                           int32\n",
       "Total_Amount_Paid                        float64\n",
       "dtype: object"
      ]
     },
     "execution_count": 91,
     "metadata": {},
     "output_type": "execute_result"
    }
   ],
   "source": [
    "df.dtypes"
   ]
  },
  {
   "cell_type": "code",
   "execution_count": 92,
   "metadata": {},
   "outputs": [],
   "source": [
    "#df.head()"
   ]
  },
  {
   "cell_type": "code",
   "execution_count": null,
   "metadata": {},
   "outputs": [],
   "source": []
  },
  {
   "cell_type": "markdown",
   "metadata": {},
   "source": [
    "# T-Test"
   ]
  },
  {
   "cell_type": "code",
   "execution_count": 93,
   "metadata": {},
   "outputs": [],
   "source": [
    "#df.dtypes"
   ]
  },
  {
   "cell_type": "code",
   "execution_count": 94,
   "metadata": {},
   "outputs": [],
   "source": [
    "df['host_id'] = df['host_id'].astype(np.float64)\n",
    "df['latitude'] = df['latitude'].astype(np.float64)\n",
    "df['longitude'] = df['longitude'].astype(np.float64)\n",
    "df['price'] = df['price'].astype(np.int64)\n",
    "df['minimum_nights'] = df['minimum_nights'].astype(np.float64)\n",
    "df['reviews_per_month'] = df['reviews_per_month'].astype(np.float64)\n",
    "df['calculated_host_listings_count'] = df['calculated_host_listings_count'].astype(np.int64)\n",
    "df['availability_365'] = df['availability_365'].astype(np.int64)\n",
    "\n",
    "#df.dtypes"
   ]
  },
  {
   "cell_type": "code",
   "execution_count": 95,
   "metadata": {},
   "outputs": [],
   "source": [
    "num_columns = ['latitude','longitude','price','minimum_nights','number_of_reviews','reviews_per_month','calculated_host_listings_count','availability_365','Total_Amount_Paid']"
   ]
  },
  {
   "cell_type": "code",
   "execution_count": 96,
   "metadata": {},
   "outputs": [
    {
     "name": "stdout",
     "output_type": "stream",
     "text": [
      "(latitude,longitude) => t-value= -170919.36414808003, p-value= 0.0\n",
      "(latitude,price) => t-value= -43.6321774495353, p-value= 0.0\n",
      "(latitude,minimum_nights) => t-value= -34.03071097811187, p-value= 5.633678112890004e-245\n",
      "(latitude,number_of_reviews) => t-value= -34.348954053952745, p-value= 2.2337598176830605e-249\n",
      "(latitude,reviews_per_month) => t-value= 23.12874867308488, p-value= 2.0824977842009198e-116\n",
      "(latitude,calculated_host_listings_count) => t-value= -52.749504931210474, p-value= 0.0\n",
      "(latitude,availability_365) => t-value= -129.95419820608618, p-value= 0.0\n",
      "(latitude,Total_Amount_Paid) => t-value= -8.707646818327206, p-value= 3.407021249021193e-18\n",
      "(longitude,price) => t-value= -17.16600299670573, p-value= 1.886697022746164e-65\n",
      "(longitude,minimum_nights) => t-value= 182.82098719702753, p-value= 0.0\n",
      "(longitude,number_of_reviews) => t-value= 270.62366722109147, p-value= 0.0\n",
      "(longitude,reviews_per_month) => t-value= 8651.225763993309, p-value= 0.0\n",
      "(longitude,calculated_host_listings_count) => t-value= 85.74384346373408, p-value= 0.0\n",
      "(longitude,availability_365) => t-value= -66.11652424476627, p-value= 0.0\n",
      "(longitude,Total_Amount_Paid) => t-value= -8.389193338830815, p-value= 5.3070740003692973e-17\n",
      "(price,minimum_nights) => t-value= 39.18803595198126, p-value= 0.0\n",
      "(price,number_of_reviews) => t-value= 40.49908780840161, p-value= 0.0\n",
      "(price,reviews_per_month) => t-value= 43.70288747822712, p-value= 0.0\n",
      "(price,calculated_host_listings_count) => t-value= 32.95535154190281, p-value= 2.3044901452535385e-230\n",
      "(price,availability_365) => t-value= -9.463855524145997, p-value= 3.3801865545094383e-21\n",
      "(price,Total_Amount_Paid) => t-value= -8.18205162356193, p-value= 3.0026444530106522e-16\n",
      "(minimum_nights,number_of_reviews) => t-value= 7.829323076567633, p-value= 5.216706890349251e-15\n",
      "(minimum_nights,reviews_per_month) => t-value= 34.60085828310095, p-value= 6.916870345811379e-253\n",
      "(minimum_nights,calculated_host_listings_count) => t-value= -26.139543271099882, p-value= 1.8168666974263962e-147\n",
      "(minimum_nights,availability_365) => t-value= -115.05426757955541, p-value= 0.0\n",
      "(minimum_nights,Total_Amount_Paid) => t-value= -8.657662334400214, p-value= 5.276951024374404e-18\n",
      "(number_of_reviews,reviews_per_month) => t-value= 35.14422568674903, p-value= 1.5700998993666541e-260\n",
      "(number_of_reviews,calculated_host_listings_count) => t-value= -33.826538495853185, p-value= 3.599244630469962e-242\n",
      "(number_of_reviews,availability_365) => t-value= -120.1599548453521, p-value= 0.0\n",
      "(number_of_reviews,Total_Amount_Paid) => t-value= -8.671774809807381, p-value= 4.664914488636321e-18\n",
      "(reviews_per_month,calculated_host_listings_count) => t-value= -53.11376816507319, p-value= 0.0\n",
      "(reviews_per_month,availability_365) => t-value= -130.1216963666084, p-value= 0.0\n",
      "(reviews_per_month,Total_Amount_Paid) => t-value= -8.708500096403716, p-value= 3.3815987188544218e-18\n",
      "(calculated_host_listings_count,availability_365) => t-value= -95.93819183393774, p-value= 0.0\n",
      "(calculated_host_listings_count,Total_Amount_Paid) => t-value= -8.586331202038139, p-value= 9.810885494102484e-18\n",
      "(availability_365,Total_Amount_Paid) => t-value= -8.05927154882726, p-value= 8.223599409152149e-16\n"
     ]
    }
   ],
   "source": [
    "for i in range(len(num_columns)-1):\n",
    "    for j in range(i+1,len(num_columns)):\n",
    "        col1 = num_columns[i]\n",
    "        col2 = num_columns[j]\n",
    "        t_val, p_val = stats.ttest_ind(df[col1], df[col2])\n",
    "        print(\"(%s,%s) => t-value= %s, p-value= %s\" % (num_columns[i], num_columns[j], str(t_val), str(p_val)))"
   ]
  },
  {
   "cell_type": "markdown",
   "metadata": {},
   "source": [
    "As shown in the results above all p-value for every pair turns out to be less than 0.05 (p-val < 0.05), infact its very small for every pair. Thus, there is a statistically significant difference between all above mentioned numeric columns"
   ]
  },
  {
   "cell_type": "markdown",
   "metadata": {},
   "source": [
    "# 1 - Way Anova"
   ]
  },
  {
   "cell_type": "code",
   "execution_count": 97,
   "metadata": {},
   "outputs": [
    {
     "name": "stdout",
     "output_type": "stream",
     "text": [
      "['neighbourhood', 'room_type', 'name', 'host_id', 'neighbourhood_group', 'host_name']\n"
     ]
    }
   ],
   "source": [
    "#Categorical Columns\n",
    "categorical = list((set(df.columns) - set(num_columns)) - set(['last_review']))\n",
    "print(categorical)"
   ]
  },
  {
   "cell_type": "code",
   "execution_count": 98,
   "metadata": {},
   "outputs": [
    {
     "name": "stdout",
     "output_type": "stream",
     "text": [
      "\n",
      "Anova => Total_Amount_Paid - neighbourhood\n"
     ]
    },
    {
     "data": {
      "text/html": [
       "<div>\n",
       "<style scoped>\n",
       "    .dataframe tbody tr th:only-of-type {\n",
       "        vertical-align: middle;\n",
       "    }\n",
       "\n",
       "    .dataframe tbody tr th {\n",
       "        vertical-align: top;\n",
       "    }\n",
       "\n",
       "    .dataframe thead th {\n",
       "        text-align: right;\n",
       "    }\n",
       "</style>\n",
       "<table border=\"1\" class=\"dataframe\">\n",
       "  <thead>\n",
       "    <tr style=\"text-align: right;\">\n",
       "      <th></th>\n",
       "      <th>sum_sq</th>\n",
       "      <th>df</th>\n",
       "      <th>F</th>\n",
       "      <th>PR(&gt;F)</th>\n",
       "    </tr>\n",
       "  </thead>\n",
       "  <tbody>\n",
       "    <tr>\n",
       "      <th>C(Q(\"neighbourhood\"))</th>\n",
       "      <td>3.146232e+10</td>\n",
       "      <td>41.0</td>\n",
       "      <td>0.942424</td>\n",
       "      <td>0.576012</td>\n",
       "    </tr>\n",
       "    <tr>\n",
       "      <th>Residual</th>\n",
       "      <td>6.359336e+12</td>\n",
       "      <td>7810.0</td>\n",
       "      <td>NaN</td>\n",
       "      <td>NaN</td>\n",
       "    </tr>\n",
       "  </tbody>\n",
       "</table>\n",
       "</div>"
      ],
      "text/plain": [
       "                             sum_sq      df         F    PR(>F)\n",
       "C(Q(\"neighbourhood\"))  3.146232e+10    41.0  0.942424  0.576012\n",
       "Residual               6.359336e+12  7810.0       NaN       NaN"
      ]
     },
     "metadata": {},
     "output_type": "display_data"
    },
    {
     "name": "stdout",
     "output_type": "stream",
     "text": [
      "\n",
      "Anova => Total_Amount_Paid - room_type\n"
     ]
    },
    {
     "data": {
      "text/html": [
       "<div>\n",
       "<style scoped>\n",
       "    .dataframe tbody tr th:only-of-type {\n",
       "        vertical-align: middle;\n",
       "    }\n",
       "\n",
       "    .dataframe tbody tr th {\n",
       "        vertical-align: top;\n",
       "    }\n",
       "\n",
       "    .dataframe thead th {\n",
       "        text-align: right;\n",
       "    }\n",
       "</style>\n",
       "<table border=\"1\" class=\"dataframe\">\n",
       "  <thead>\n",
       "    <tr style=\"text-align: right;\">\n",
       "      <th></th>\n",
       "      <th>sum_sq</th>\n",
       "      <th>df</th>\n",
       "      <th>F</th>\n",
       "      <th>PR(&gt;F)</th>\n",
       "    </tr>\n",
       "  </thead>\n",
       "  <tbody>\n",
       "    <tr>\n",
       "      <th>C(Q(\"room_type\"))</th>\n",
       "      <td>1.039528e+10</td>\n",
       "      <td>2.0</td>\n",
       "      <td>6.393996</td>\n",
       "      <td>0.00168</td>\n",
       "    </tr>\n",
       "    <tr>\n",
       "      <th>Residual</th>\n",
       "      <td>6.380403e+12</td>\n",
       "      <td>7849.0</td>\n",
       "      <td>NaN</td>\n",
       "      <td>NaN</td>\n",
       "    </tr>\n",
       "  </tbody>\n",
       "</table>\n",
       "</div>"
      ],
      "text/plain": [
       "                         sum_sq      df         F   PR(>F)\n",
       "C(Q(\"room_type\"))  1.039528e+10     2.0  6.393996  0.00168\n",
       "Residual           6.380403e+12  7849.0       NaN      NaN"
      ]
     },
     "metadata": {},
     "output_type": "display_data"
    },
    {
     "name": "stdout",
     "output_type": "stream",
     "text": [
      "\n",
      "Anova => Total_Amount_Paid - name\n"
     ]
    },
    {
     "data": {
      "text/html": [
       "<div>\n",
       "<style scoped>\n",
       "    .dataframe tbody tr th:only-of-type {\n",
       "        vertical-align: middle;\n",
       "    }\n",
       "\n",
       "    .dataframe tbody tr th {\n",
       "        vertical-align: top;\n",
       "    }\n",
       "\n",
       "    .dataframe thead th {\n",
       "        text-align: right;\n",
       "    }\n",
       "</style>\n",
       "<table border=\"1\" class=\"dataframe\">\n",
       "  <thead>\n",
       "    <tr style=\"text-align: right;\">\n",
       "      <th></th>\n",
       "      <th>sum_sq</th>\n",
       "      <th>df</th>\n",
       "      <th>F</th>\n",
       "      <th>PR(&gt;F)</th>\n",
       "    </tr>\n",
       "  </thead>\n",
       "  <tbody>\n",
       "    <tr>\n",
       "      <th>C(Q(\"name\"))</th>\n",
       "      <td>6.388899e+12</td>\n",
       "      <td>7320.0</td>\n",
       "      <td>244.018545</td>\n",
       "      <td>0.0</td>\n",
       "    </tr>\n",
       "    <tr>\n",
       "      <th>Residual</th>\n",
       "      <td>1.899270e+09</td>\n",
       "      <td>531.0</td>\n",
       "      <td>NaN</td>\n",
       "      <td>NaN</td>\n",
       "    </tr>\n",
       "  </tbody>\n",
       "</table>\n",
       "</div>"
      ],
      "text/plain": [
       "                    sum_sq      df           F  PR(>F)\n",
       "C(Q(\"name\"))  6.388899e+12  7320.0  244.018545     0.0\n",
       "Residual      1.899270e+09   531.0         NaN     NaN"
      ]
     },
     "metadata": {},
     "output_type": "display_data"
    },
    {
     "name": "stdout",
     "output_type": "stream",
     "text": [
      "\n",
      "Anova => Total_Amount_Paid - host_id\n"
     ]
    },
    {
     "data": {
      "text/html": [
       "<div>\n",
       "<style scoped>\n",
       "    .dataframe tbody tr th:only-of-type {\n",
       "        vertical-align: middle;\n",
       "    }\n",
       "\n",
       "    .dataframe tbody tr th {\n",
       "        vertical-align: top;\n",
       "    }\n",
       "\n",
       "    .dataframe thead th {\n",
       "        text-align: right;\n",
       "    }\n",
       "</style>\n",
       "<table border=\"1\" class=\"dataframe\">\n",
       "  <thead>\n",
       "    <tr style=\"text-align: right;\">\n",
       "      <th></th>\n",
       "      <th>sum_sq</th>\n",
       "      <th>df</th>\n",
       "      <th>F</th>\n",
       "      <th>PR(&gt;F)</th>\n",
       "    </tr>\n",
       "  </thead>\n",
       "  <tbody>\n",
       "    <tr>\n",
       "      <th>C(Q(\"host_id\"))</th>\n",
       "      <td>6.331497e+12</td>\n",
       "      <td>2684.0</td>\n",
       "      <td>205.540313</td>\n",
       "      <td>0.0</td>\n",
       "    </tr>\n",
       "    <tr>\n",
       "      <th>Residual</th>\n",
       "      <td>5.930145e+10</td>\n",
       "      <td>5167.0</td>\n",
       "      <td>NaN</td>\n",
       "      <td>NaN</td>\n",
       "    </tr>\n",
       "  </tbody>\n",
       "</table>\n",
       "</div>"
      ],
      "text/plain": [
       "                       sum_sq      df           F  PR(>F)\n",
       "C(Q(\"host_id\"))  6.331497e+12  2684.0  205.540313     0.0\n",
       "Residual         5.930145e+10  5167.0         NaN     NaN"
      ]
     },
     "metadata": {},
     "output_type": "display_data"
    },
    {
     "name": "stdout",
     "output_type": "stream",
     "text": [
      "\n",
      "Anova => Total_Amount_Paid - neighbourhood_group\n"
     ]
    },
    {
     "data": {
      "text/html": [
       "<div>\n",
       "<style scoped>\n",
       "    .dataframe tbody tr th:only-of-type {\n",
       "        vertical-align: middle;\n",
       "    }\n",
       "\n",
       "    .dataframe tbody tr th {\n",
       "        vertical-align: top;\n",
       "    }\n",
       "\n",
       "    .dataframe thead th {\n",
       "        text-align: right;\n",
       "    }\n",
       "</style>\n",
       "<table border=\"1\" class=\"dataframe\">\n",
       "  <thead>\n",
       "    <tr style=\"text-align: right;\">\n",
       "      <th></th>\n",
       "      <th>sum_sq</th>\n",
       "      <th>df</th>\n",
       "      <th>F</th>\n",
       "      <th>PR(&gt;F)</th>\n",
       "    </tr>\n",
       "  </thead>\n",
       "  <tbody>\n",
       "    <tr>\n",
       "      <th>C(Q(\"neighbourhood_group\"))</th>\n",
       "      <td>1.154940e+10</td>\n",
       "      <td>4.0</td>\n",
       "      <td>3.551678</td>\n",
       "      <td>0.006696</td>\n",
       "    </tr>\n",
       "    <tr>\n",
       "      <th>Residual</th>\n",
       "      <td>6.379249e+12</td>\n",
       "      <td>7847.0</td>\n",
       "      <td>NaN</td>\n",
       "      <td>NaN</td>\n",
       "    </tr>\n",
       "  </tbody>\n",
       "</table>\n",
       "</div>"
      ],
      "text/plain": [
       "                                   sum_sq      df         F    PR(>F)\n",
       "C(Q(\"neighbourhood_group\"))  1.154940e+10     4.0  3.551678  0.006696\n",
       "Residual                     6.379249e+12  7847.0       NaN       NaN"
      ]
     },
     "metadata": {},
     "output_type": "display_data"
    },
    {
     "name": "stdout",
     "output_type": "stream",
     "text": [
      "\n",
      "Anova => Total_Amount_Paid - host_name\n"
     ]
    },
    {
     "data": {
      "text/html": [
       "<div>\n",
       "<style scoped>\n",
       "    .dataframe tbody tr th:only-of-type {\n",
       "        vertical-align: middle;\n",
       "    }\n",
       "\n",
       "    .dataframe tbody tr th {\n",
       "        vertical-align: top;\n",
       "    }\n",
       "\n",
       "    .dataframe thead th {\n",
       "        text-align: right;\n",
       "    }\n",
       "</style>\n",
       "<table border=\"1\" class=\"dataframe\">\n",
       "  <thead>\n",
       "    <tr style=\"text-align: right;\">\n",
       "      <th></th>\n",
       "      <th>sum_sq</th>\n",
       "      <th>df</th>\n",
       "      <th>F</th>\n",
       "      <th>PR(&gt;F)</th>\n",
       "    </tr>\n",
       "  </thead>\n",
       "  <tbody>\n",
       "    <tr>\n",
       "      <th>C(Q(\"host_name\"))</th>\n",
       "      <td>1.801270e+12</td>\n",
       "      <td>1818.0</td>\n",
       "      <td>1.30199</td>\n",
       "      <td>4.624713e-13</td>\n",
       "    </tr>\n",
       "    <tr>\n",
       "      <th>Residual</th>\n",
       "      <td>4.589516e+12</td>\n",
       "      <td>6031.0</td>\n",
       "      <td>NaN</td>\n",
       "      <td>NaN</td>\n",
       "    </tr>\n",
       "  </tbody>\n",
       "</table>\n",
       "</div>"
      ],
      "text/plain": [
       "                         sum_sq      df        F        PR(>F)\n",
       "C(Q(\"host_name\"))  1.801270e+12  1818.0  1.30199  4.624713e-13\n",
       "Residual           4.589516e+12  6031.0      NaN           NaN"
      ]
     },
     "metadata": {},
     "output_type": "display_data"
    }
   ],
   "source": [
    "import scipy.stats as stats\n",
    "import statsmodels.api as sm\n",
    "from statsmodels.formula.api import ols\n",
    "\n",
    "# Taking 1-way anova of Sales with all categorical variables\n",
    "for i in categorical:\n",
    "    model = ols('Total_Amount_Paid ~ C(Q(\"%s\"))'% i, data=df).fit()\n",
    "    anova_table = sm.stats.anova_lm(model, typ=2)\n",
    "    print (\"\\nAnova => Total_Amount_Paid - %s\" % i)\n",
    "    display(anova_table)\n"
   ]
  },
  {
   "cell_type": "markdown",
   "metadata": {},
   "source": [
    "With our null hypothesis being Ho = no difference between population means of Total_Amount_Paid and groups(categorical columns). Above results of 1-way Anova indicates that for room_type, neighbourhood_group, name and host_id p-value turns out to be less than 0.05, so we can reject our null hypothesis thus we can state with 95% confidence that difference between means exist for sales and groups in above mentioned columns"
   ]
  },
  {
   "cell_type": "code",
   "execution_count": null,
   "metadata": {},
   "outputs": [],
   "source": []
  },
  {
   "cell_type": "markdown",
   "metadata": {},
   "source": [
    "# Correlation Heatmap"
   ]
  },
  {
   "cell_type": "code",
   "execution_count": 99,
   "metadata": {},
   "outputs": [],
   "source": [
    "import matplotlib as plt"
   ]
  },
  {
   "cell_type": "code",
   "execution_count": null,
   "metadata": {},
   "outputs": [],
   "source": []
  },
  {
   "cell_type": "code",
   "execution_count": 101,
   "metadata": {},
   "outputs": [
    {
     "data": {
      "text/plain": [
       "<matplotlib.axes._subplots.AxesSubplot at 0x1ed35ea4160>"
      ]
     },
     "execution_count": 101,
     "metadata": {},
     "output_type": "execute_result"
    },
    {
     "data": {
      "image/png": "[encoded data removed]",
      "text/plain": [
       "<Figure size 432x288 with 2 Axes>"
      ]
     },
     "metadata": {
      "needs_background": "light"
     },
     "output_type": "display_data"
    }
   ],
   "source": [
    "matrix = np.triu(df.corr())\n",
    "sns.heatmap(df.corr(),annot=True, fmt='.1g',vmin=-1, vmax=1, center= 0,cmap='coolwarm',mask=matrix)"
   ]
  },
  {
   "cell_type": "markdown",
   "metadata": {},
   "source": [
    "The correlation of Total paid with price and minimum nights is quite straight forward.\n",
    "Availability column is somewhat related to minimum nights and host listings count.\n",
    "Rest of the variables are weakly correlated."
   ]
  },
  {
   "cell_type": "code",
   "execution_count": null,
   "metadata": {},
   "outputs": [],
   "source": []
  }
 ],
 "metadata": {
  "kernelspec": {
   "display_name": "Python 3",
   "language": "python",
   "name": "python3"
  },
  "language_info": {
   "codemirror_mode": {
    "name": "ipython",
    "version": 3
   },
   "file_extension": ".py",
   "mimetype": "text/x-python",
   "name": "python",
   "nbconvert_exporter": "python",
   "pygments_lexer": "ipython3",
   "version": "3.8.5"
  }
 },
 "nbformat": 4,
 "nbformat_minor": 4
}
